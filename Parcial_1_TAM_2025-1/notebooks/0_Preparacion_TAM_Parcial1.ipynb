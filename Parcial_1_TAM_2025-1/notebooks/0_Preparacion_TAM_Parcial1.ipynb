{
  "nbformat": 4,
  "nbformat_minor": 0,
  "metadata": {
    "colab": {
      "provenance": [],
      "authorship_tag": "ABX9TyOZJJanB3sAyfTUlQ8i2AIv",
      "include_colab_link": true
    },
    "kernelspec": {
      "name": "python3",
      "display_name": "Python 3"
    },
    "language_info": {
      "name": "python"
    }
  },
  "cells": [
    {
      "cell_type": "markdown",
      "metadata": {
        "id": "view-in-github",
        "colab_type": "text"
      },
      "source": [
        "<a href=\"https://colab.research.google.com/github/johanstevenbejarano/Teoria-de-Aprendizaje-Maquina/blob/main/Parcial_1_TAM_2025-1/notebooks/0_Preparacion_TAM_Parcial1.ipynb\" target=\"_parent\"><img src=\"https://colab.research.google.com/assets/colab-badge.svg\" alt=\"Open In Colab\"/></a>"
      ]
    },
    {
      "cell_type": "markdown",
      "source": [
        "\n"
      ],
      "metadata": {
        "id": "EKI5VLWOJG4O"
      }
    },
    {
      "cell_type": "markdown",
      "source": [
        "### Clonación del repositorio en entorno Colab\n",
        "\n",
        "Este bloque permite clonar el repositorio público del proyecto en caso de que el entorno de Colab se reinicie (lo cual borra todo el contenido local en `/content`).  \n",
        "La línea de eliminación está comentada por defecto y solo debe activarse si el repositorio ya fue clonado previamente.\n"
      ],
      "metadata": {
        "id": "LkUhTFXtDThb"
      }
    },
    {
      "cell_type": "code",
      "source": [
        "# === PREPARACIÓN DEL ENTORNO EN COLAB ===\n",
        "\n",
        "# 1. Ir al directorio raíz\n",
        "%cd /content/\n",
        "\n",
        "# 2. Eliminar repo si ya existe (descomentar solo si hay conflictos)\n",
        "# !rm -rf Teoria-de-Aprendizaje-Maquina\n",
        "\n",
        "# 3. Clonar repositorio desde GitHub (público)\n",
        "!git clone https://github.com/johanstevenbejarano/Teoria-de-Aprendizaje-Maquina.git\n",
        "\n",
        "# 4. Ir a la carpeta del parcial\n",
        "%cd Teoria-de-Aprendizaje-Maquina/Parcial_1_TAM_2025-1/\n"
      ],
      "metadata": {
        "colab": {
          "base_uri": "https://localhost:8080/"
        },
        "id": "JwaxVBThDfXW",
        "outputId": "5bca3ad2-6d42-4a53-f9e8-5aa9e1c10379"
      },
      "execution_count": 18,
      "outputs": [
        {
          "output_type": "stream",
          "name": "stdout",
          "text": [
            "/content\n",
            "Cloning into 'Teoria-de-Aprendizaje-Maquina'...\n",
            "remote: Enumerating objects: 64, done.\u001b[K\n",
            "remote: Counting objects: 100% (64/64), done.\u001b[K\n",
            "remote: Compressing objects: 100% (46/46), done.\u001b[K\n",
            "remote: Total 64 (delta 29), reused 37 (delta 11), pack-reused 0 (from 0)\u001b[K\n",
            "Receiving objects: 100% (64/64), 3.53 MiB | 28.48 MiB/s, done.\n",
            "Resolving deltas: 100% (29/29), done.\n",
            "/content/Teoria-de-Aprendizaje-Maquina/Parcial_1_TAM_2025-1\n"
          ]
        }
      ]
    },
    {
      "cell_type": "markdown",
      "source": [
        "### Autenticación con Kaggle y descarga segura del dataset\n",
        "\n",
        "Para descargar el dataset desde Kaggle, se utiliza el archivo `kaggle.json`, el cual contiene una clave de API privada.  \n",
        "Este archivo **nunca debe subirse a GitHub** ni compartirse públicamente.  \n",
        "En su lugar, se sube de forma manual en Colab y se configura localmente con los permisos adecuados.  \n",
        "El dataset \"Ames Housing Dataset\" se descarga directamente a la carpeta `data/` del proyecto."
      ],
      "metadata": {
        "id": "GCbA6ttHJYVO"
      }
    },
    {
      "cell_type": "code",
      "source": [
        "# Subir kaggle.json de forma local a Colab\n",
        "\n",
        "from google.colab import files\n",
        "files.upload()\n"
      ],
      "metadata": {
        "colab": {
          "base_uri": "https://localhost:8080/",
          "height": 88
        },
        "id": "gmAV0rtcH36X",
        "outputId": "ce49fb45-c74e-4381-8735-bcf7db5b3e54"
      },
      "execution_count": 19,
      "outputs": [
        {
          "output_type": "display_data",
          "data": {
            "text/plain": [
              "<IPython.core.display.HTML object>"
            ],
            "text/html": [
              "\n",
              "     <input type=\"file\" id=\"files-6f1bb24c-e228-4839-9ddd-91475a333a17\" name=\"files[]\" multiple disabled\n",
              "        style=\"border:none\" />\n",
              "     <output id=\"result-6f1bb24c-e228-4839-9ddd-91475a333a17\">\n",
              "      Upload widget is only available when the cell has been executed in the\n",
              "      current browser session. Please rerun this cell to enable.\n",
              "      </output>\n",
              "      <script>// Copyright 2017 Google LLC\n",
              "//\n",
              "// Licensed under the Apache License, Version 2.0 (the \"License\");\n",
              "// you may not use this file except in compliance with the License.\n",
              "// You may obtain a copy of the License at\n",
              "//\n",
              "//      http://www.apache.org/licenses/LICENSE-2.0\n",
              "//\n",
              "// Unless required by applicable law or agreed to in writing, software\n",
              "// distributed under the License is distributed on an \"AS IS\" BASIS,\n",
              "// WITHOUT WARRANTIES OR CONDITIONS OF ANY KIND, either express or implied.\n",
              "// See the License for the specific language governing permissions and\n",
              "// limitations under the License.\n",
              "\n",
              "/**\n",
              " * @fileoverview Helpers for google.colab Python module.\n",
              " */\n",
              "(function(scope) {\n",
              "function span(text, styleAttributes = {}) {\n",
              "  const element = document.createElement('span');\n",
              "  element.textContent = text;\n",
              "  for (const key of Object.keys(styleAttributes)) {\n",
              "    element.style[key] = styleAttributes[key];\n",
              "  }\n",
              "  return element;\n",
              "}\n",
              "\n",
              "// Max number of bytes which will be uploaded at a time.\n",
              "const MAX_PAYLOAD_SIZE = 100 * 1024;\n",
              "\n",
              "function _uploadFiles(inputId, outputId) {\n",
              "  const steps = uploadFilesStep(inputId, outputId);\n",
              "  const outputElement = document.getElementById(outputId);\n",
              "  // Cache steps on the outputElement to make it available for the next call\n",
              "  // to uploadFilesContinue from Python.\n",
              "  outputElement.steps = steps;\n",
              "\n",
              "  return _uploadFilesContinue(outputId);\n",
              "}\n",
              "\n",
              "// This is roughly an async generator (not supported in the browser yet),\n",
              "// where there are multiple asynchronous steps and the Python side is going\n",
              "// to poll for completion of each step.\n",
              "// This uses a Promise to block the python side on completion of each step,\n",
              "// then passes the result of the previous step as the input to the next step.\n",
              "function _uploadFilesContinue(outputId) {\n",
              "  const outputElement = document.getElementById(outputId);\n",
              "  const steps = outputElement.steps;\n",
              "\n",
              "  const next = steps.next(outputElement.lastPromiseValue);\n",
              "  return Promise.resolve(next.value.promise).then((value) => {\n",
              "    // Cache the last promise value to make it available to the next\n",
              "    // step of the generator.\n",
              "    outputElement.lastPromiseValue = value;\n",
              "    return next.value.response;\n",
              "  });\n",
              "}\n",
              "\n",
              "/**\n",
              " * Generator function which is called between each async step of the upload\n",
              " * process.\n",
              " * @param {string} inputId Element ID of the input file picker element.\n",
              " * @param {string} outputId Element ID of the output display.\n",
              " * @return {!Iterable<!Object>} Iterable of next steps.\n",
              " */\n",
              "function* uploadFilesStep(inputId, outputId) {\n",
              "  const inputElement = document.getElementById(inputId);\n",
              "  inputElement.disabled = false;\n",
              "\n",
              "  const outputElement = document.getElementById(outputId);\n",
              "  outputElement.innerHTML = '';\n",
              "\n",
              "  const pickedPromise = new Promise((resolve) => {\n",
              "    inputElement.addEventListener('change', (e) => {\n",
              "      resolve(e.target.files);\n",
              "    });\n",
              "  });\n",
              "\n",
              "  const cancel = document.createElement('button');\n",
              "  inputElement.parentElement.appendChild(cancel);\n",
              "  cancel.textContent = 'Cancel upload';\n",
              "  const cancelPromise = new Promise((resolve) => {\n",
              "    cancel.onclick = () => {\n",
              "      resolve(null);\n",
              "    };\n",
              "  });\n",
              "\n",
              "  // Wait for the user to pick the files.\n",
              "  const files = yield {\n",
              "    promise: Promise.race([pickedPromise, cancelPromise]),\n",
              "    response: {\n",
              "      action: 'starting',\n",
              "    }\n",
              "  };\n",
              "\n",
              "  cancel.remove();\n",
              "\n",
              "  // Disable the input element since further picks are not allowed.\n",
              "  inputElement.disabled = true;\n",
              "\n",
              "  if (!files) {\n",
              "    return {\n",
              "      response: {\n",
              "        action: 'complete',\n",
              "      }\n",
              "    };\n",
              "  }\n",
              "\n",
              "  for (const file of files) {\n",
              "    const li = document.createElement('li');\n",
              "    li.append(span(file.name, {fontWeight: 'bold'}));\n",
              "    li.append(span(\n",
              "        `(${file.type || 'n/a'}) - ${file.size} bytes, ` +\n",
              "        `last modified: ${\n",
              "            file.lastModifiedDate ? file.lastModifiedDate.toLocaleDateString() :\n",
              "                                    'n/a'} - `));\n",
              "    const percent = span('0% done');\n",
              "    li.appendChild(percent);\n",
              "\n",
              "    outputElement.appendChild(li);\n",
              "\n",
              "    const fileDataPromise = new Promise((resolve) => {\n",
              "      const reader = new FileReader();\n",
              "      reader.onload = (e) => {\n",
              "        resolve(e.target.result);\n",
              "      };\n",
              "      reader.readAsArrayBuffer(file);\n",
              "    });\n",
              "    // Wait for the data to be ready.\n",
              "    let fileData = yield {\n",
              "      promise: fileDataPromise,\n",
              "      response: {\n",
              "        action: 'continue',\n",
              "      }\n",
              "    };\n",
              "\n",
              "    // Use a chunked sending to avoid message size limits. See b/62115660.\n",
              "    let position = 0;\n",
              "    do {\n",
              "      const length = Math.min(fileData.byteLength - position, MAX_PAYLOAD_SIZE);\n",
              "      const chunk = new Uint8Array(fileData, position, length);\n",
              "      position += length;\n",
              "\n",
              "      const base64 = btoa(String.fromCharCode.apply(null, chunk));\n",
              "      yield {\n",
              "        response: {\n",
              "          action: 'append',\n",
              "          file: file.name,\n",
              "          data: base64,\n",
              "        },\n",
              "      };\n",
              "\n",
              "      let percentDone = fileData.byteLength === 0 ?\n",
              "          100 :\n",
              "          Math.round((position / fileData.byteLength) * 100);\n",
              "      percent.textContent = `${percentDone}% done`;\n",
              "\n",
              "    } while (position < fileData.byteLength);\n",
              "  }\n",
              "\n",
              "  // All done.\n",
              "  yield {\n",
              "    response: {\n",
              "      action: 'complete',\n",
              "    }\n",
              "  };\n",
              "}\n",
              "\n",
              "scope.google = scope.google || {};\n",
              "scope.google.colab = scope.google.colab || {};\n",
              "scope.google.colab._files = {\n",
              "  _uploadFiles,\n",
              "  _uploadFilesContinue,\n",
              "};\n",
              "})(self);\n",
              "</script> "
            ]
          },
          "metadata": {}
        },
        {
          "output_type": "stream",
          "name": "stdout",
          "text": [
            "Saving kaggle.json to kaggle.json\n"
          ]
        },
        {
          "output_type": "execute_result",
          "data": {
            "text/plain": [
              "{'kaggle.json': b'{\"username\":\"johanstevenbejarano\",\"key\":\"8e70b5469980887868d0b829131a1464\"}'}"
            ]
          },
          "metadata": {},
          "execution_count": 19
        }
      ]
    },
    {
      "cell_type": "code",
      "source": [
        "# Crear el directorio oculto si no existe\n",
        "!mkdir -p ~/.kaggle\n",
        "\n",
        "# Mover kaggle.json al directorio oficial de configuración\n",
        "!mv kaggle.json ~/.kaggle/\n",
        "\n",
        "# Cambiar los permisos para que solo el sistema pueda leerlo\n",
        "!chmod 600 ~/.kaggle/kaggle.json\n"
      ],
      "metadata": {
        "id": "7y3ZMP8RILgW"
      },
      "execution_count": 20,
      "outputs": []
    },
    {
      "cell_type": "code",
      "source": [
        "# Probar conexión con la API de Kaggle\n",
        "\n",
        "!kaggle datasets list -s \"ames housing\"\n"
      ],
      "metadata": {
        "colab": {
          "base_uri": "https://localhost:8080/"
        },
        "id": "pVc5I-rKIRFQ",
        "outputId": "774fa862-c8e8-42b1-f4e9-0f18bf144296"
      },
      "execution_count": 21,
      "outputs": [
        {
          "output_type": "stream",
          "name": "stdout",
          "text": [
            "ref                                                              title                                                    size  lastUpdated                 downloadCount  voteCount  usabilityRating  \n",
            "---------------------------------------------------------------  -------------------------------------------------  ----------  --------------------------  -------------  ---------  ---------------  \n",
            "marcopale/housing                                                Ames Iowa Housing Data                                 406609  2020-03-18 20:24:26.247000           8592         42  0.9705882        \n",
            "prevek18/ames-housing-dataset                                    Ames Housing Dataset                                   189065  2018-09-10 01:40:13.893000          19393        100  0.1764706        \n",
            "shashanknecrothapa/ames-housing-dataset                          Ames Housing Dataset                                   189065  2023-06-20 17:12:11.983000           9857         20  0.47058824       \n",
            "ahmedmohameddawoud/ames-housing-data                             Ames Housing Data                                      186588  2021-04-27 21:34:44.407000            562         12  0.5882353        \n",
            "carlmcbrideellis/house-prices-advanced-regression-solution-file  House Prices: Advanced Regression 'solution' file        6632  2020-09-11 15:40:17.983000           1857         54  1.0              \n",
            "anishpai/ames-housing-dataset-missing                            Ames Housing Dataset Engineered                        196917  2020-09-30 14:58:26.573000            368          6  0.9117647        \n",
            "aminizahra/preparation-ames-housing-data                         Preparation Ames Housing Data                          222540  2021-09-18 05:51:25.933000             51         28  0.47058824       \n",
            "vinayak123tyagi/bearing-dataset                                  NASA Bearing Dataset                               1671101276  2020-05-16 16:16:51.077000          14919        167  0.875            \n",
            "prevek18/ames-housing                                            Ames Housing                                           695924  2018-09-10 01:36:34.310000            357          4  0.23529412       \n",
            "emurphy/ames-iowa-housing-prices-dataset                         Ames Iowa Housing Prices Dataset                       194897  2018-04-25 14:54:54.067000            590          9  0.4117647        \n",
            "nabilabdul/ames-house-price-prediction-regression                🏘️Ames House Price Prediction Regression 🌎🚗🛣️          100811  2022-07-20 12:01:40.820000            247         10  0.7941176        \n",
            "zeeshanmulla/advance-house-price-predicitons                     Advance House Price Predicitons                        280747  2020-01-05 10:22:15.880000           1137          7  0.7058824        \n",
            "jordirosell/modeldata-ames                                       Ames dataset in modeldata package 2022-09-22           186990  2022-09-22 08:10:04.373000             72          3  1.0              \n",
            "mnoori/ames-housing-prices                                       Ames Housing Prices                                    189144  2018-01-06 03:47:41.103000            315          1  0.3125           \n",
            "cygmeda/ames-housing-prices                                      Ames Housing Prices                                    188137  2022-04-23 16:34:31.527000             72          1  0.47058824       \n",
            "hamzajabbarkhan/ames-housingtsv                                  Ames Housing.tsv                                       189144  2020-01-23 02:32:58.153000            170          2  0.29411766       \n",
            "samaxtech/ames-housing-data                                      Ames Housing Data                                      378350  2018-11-28 03:15:15.683000            178          1  0.23529412       \n",
            "kirosg/ames-housing-eda                                          Ames Housing EDA                                       148891  2018-05-15 13:44:29.147000             71          1  0.3529412        \n",
            "saurabh0/ames-housing-sales                                      Ames Housing Sales                                      98695  2020-07-15 08:41:38.263000             49          1  0.1764706        \n",
            "ninadrajeshgawali/ames-housing-dataset                           Ames Housing DataSet                                   499000  2024-08-06 12:17:46.340000             25          1  0.1764706        \n"
          ]
        }
      ]
    },
    {
      "cell_type": "code",
      "source": [
        "# Descargar y descomprimir el dataset dentro del directorio /data\n",
        "!kaggle datasets download -d shashanknecrothapa/ames-housing-dataset -p data/ --unzip\n"
      ],
      "metadata": {
        "colab": {
          "base_uri": "https://localhost:8080/"
        },
        "id": "jADLRibqIe_I",
        "outputId": "d621c2d9-c37d-44e9-8be3-579afd7150dd"
      },
      "execution_count": 22,
      "outputs": [
        {
          "output_type": "stream",
          "name": "stdout",
          "text": [
            "Dataset URL: https://www.kaggle.com/datasets/shashanknecrothapa/ames-housing-dataset\n",
            "License(s): unknown\n",
            "Downloading ames-housing-dataset.zip to data\n",
            "  0% 0.00/185k [00:00<?, ?B/s]\n",
            "100% 185k/185k [00:00<00:00, 480MB/s]\n"
          ]
        }
      ]
    },
    {
      "cell_type": "code",
      "source": [
        "# verificacion del archivo que se descargo\n",
        "!ls data/\n"
      ],
      "metadata": {
        "colab": {
          "base_uri": "https://localhost:8080/"
        },
        "id": "aFhA4_YGI26a",
        "outputId": "51a9b010-03b9-4fce-b202-77bf52fb95d4"
      },
      "execution_count": 23,
      "outputs": [
        {
          "output_type": "stream",
          "name": "stdout",
          "text": [
            "AmesHousing.csv\n"
          ]
        }
      ]
    }
  ]
}