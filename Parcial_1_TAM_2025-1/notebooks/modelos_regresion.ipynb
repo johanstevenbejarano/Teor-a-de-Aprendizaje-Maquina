{
  "cells": [
    {
      "cell_type": "markdown",
      "metadata": {
        "id": "view-in-github",
        "colab_type": "text"
      },
      "source": [
        "<a href=\"https://colab.research.google.com/github/johanstevenbejarano/Teoria-de-Aprendizaje-Maquina/blob/main/Parcial_1_TAM_2025-1/notebooks/modelos_regresion.ipynb\" target=\"_parent\"><img src=\"https://colab.research.google.com/assets/colab-badge.svg\" alt=\"Open In Colab\"/></a>"
      ]
    },
    {
      "cell_type": "markdown",
      "metadata": {
        "id": "Crc7o7Eg7SIo"
      },
      "source": [
        "# Comparación de Modelos de Regresión – Ames Housing\n",
        "\n",
        "Este notebook implementa y compara el rendimiento de nueve modelos de regresión utilizando el dataset **Ames Housing**, previamente preprocesado.  \n",
        "Se emplea validación cruzada de 5 folds y se calculan métricas clave: **MAE**, **MSE**, **R²** y **MAPE**.\n",
        "\n",
        "El objetivo es identificar los modelos más adecuados para predecir precios de vivienda, optimizando sus hiperparámetros en etapas posteriores.\n",
        "\n"
      ]
    },
    {
      "cell_type": "code",
      "execution_count": 186,
      "metadata": {
        "colab": {
          "base_uri": "https://localhost:8080/"
        },
        "id": "lNC0yHCB6LRj",
        "outputId": "3d651182-34fa-4a3a-bb9e-78b99cdd6be4"
      },
      "outputs": [
        {
          "output_type": "stream",
          "name": "stdout",
          "text": [
            "fatal: destination path 'Teoria-de-Aprendizaje-Maquina' already exists and is not an empty directory.\n",
            "dashboard  notebooks\t  requirements.txt\n",
            "data\t   parte_teorica  resultados\n",
            "figuras    README.md\t  Teoria-de-Aprendizaje-Maquina\n"
          ]
        }
      ],
      "source": [
        "# === CLONAR EL REPOSITORIO Y LISTAR SU CONTENIDO ===\n",
        "\n",
        "# Clona el repositorio desde GitHub si no se ha hecho previamente.\n",
        "# Esto permite acceder a los notebooks, datos y estructuras organizadas del proyecto.\n",
        "!git clone https://github.com/johanstevenbejarano/Teoria-de-Aprendizaje-Maquina.git\n",
        "\n",
        "\n",
        "\n",
        "# Lista el contenido del directorio del parcial dentro del repositorio clonado\n",
        "# para confirmar que la estructura y carpeta 'data' existen correctamente.\n",
        "!ls /content/Teoria-de-Aprendizaje-Maquina/Parcial_1_TAM_2025-1"
      ]
    },
    {
      "cell_type": "code",
      "source": [
        "!ls /content/Teoria-de-Aprendizaje-Maquina\n"
      ],
      "metadata": {
        "colab": {
          "base_uri": "https://localhost:8080/"
        },
        "id": "HAkbMlZimeiR",
        "outputId": "9e04f196-a3e0-4804-9fb2-57a98ffe1f5f"
      },
      "execution_count": 187,
      "outputs": [
        {
          "output_type": "stream",
          "name": "stdout",
          "text": [
            "'Ejercicios TAM_2025-1'   Parcial_1_TAM_2025-1\t README.md\n"
          ]
        }
      ]
    },
    {
      "cell_type": "code",
      "execution_count": 188,
      "metadata": {
        "id": "ZKiQtBh56OZ3"
      },
      "outputs": [],
      "source": [
        "# === IMPORTACIÓN DE LIBRERÍAS Y CAMBIO DE DIRECTORIO ===\n",
        "\n",
        "import os      # Para manipular rutas de archivos y cambiar directorios\n",
        "import joblib  # Para cargar archivos serializados (como los .pkl que contienen los datos escalados)\n",
        "\n",
        "# Cambia al directorio principal del proyecto clonado para que todas las rutas relativas sean válidas.\n",
        "os.chdir('/content/Teoria-de-Aprendizaje-Maquina/Parcial_1_TAM_2025-1')\n",
        "\n",
        "# Define la ruta al archivo que contiene los datos ya preprocesados, escalados y divididos.\n",
        "data_path = 'data/train_test_scaled.pkl'\n",
        "\n",
        "# Verifica que el archivo exista antes de intentar cargarlo, y lanza un error claro si no se encuentra.\n",
        "if not os.path.exists(data_path):\n",
        "    raise FileNotFoundError(f\"No se encontró el archivo esperado en: {data_path}\")\n",
        "\n"
      ]
    },
    {
      "cell_type": "code",
      "execution_count": 189,
      "metadata": {
        "colab": {
          "base_uri": "https://localhost:8080/"
        },
        "id": "nYL3KeNz79AE",
        "outputId": "b7393a0f-421d-48ea-cf20-b01da8ffb998"
      },
      "outputs": [
        {
          "output_type": "stream",
          "name": "stdout",
          "text": [
            "Datos cargados correctamente.\n"
          ]
        }
      ],
      "source": [
        "# === CARGA DE LOS DATOS PROCESADOS ===\n",
        "\n",
        "# Carga el archivo .pkl que contiene los cuatro objetos: X_train_scaled, X_test_scaled, y_train, y_test\n",
        "# Estos datos fueron escalados y divididos previamente en el notebook de preprocesamiento.\n",
        "X_train_scaled, X_test_scaled, y_train, y_test = joblib.load(data_path)\n",
        "\n",
        "# Confirmación visual de que la carga fue exitosa.\n",
        "print(\"Datos cargados correctamente.\")\n",
        "\n",
        "\n"
      ]
    },
    {
      "cell_type": "code",
      "source": [
        "%cd /content/Teoria-de-Aprendizaje-Maquina/Parcial_1_TAM_2025-1\n"
      ],
      "metadata": {
        "colab": {
          "base_uri": "https://localhost:8080/"
        },
        "id": "yQwZvDkDkZL8",
        "outputId": "789c7125-d2c6-497a-f97e-1c743600c662"
      },
      "execution_count": 190,
      "outputs": [
        {
          "output_type": "stream",
          "name": "stdout",
          "text": [
            "/content\n"
          ]
        }
      ]
    },
    {
      "cell_type": "code",
      "execution_count": 191,
      "metadata": {
        "id": "wz6jRCi98RBG"
      },
      "outputs": [],
      "source": [
        "# === IMPORTACIÓN DE LIBRERÍAS Y DEFINICIÓN DE MÉTRICAS PERSONALIZADAS ===\n",
        "\n",
        "# ================================================================\n",
        "#  IMPORTACIONES COMPLETAS – ESTUDIO DE REGRESORES AMES HOUSING\n",
        "# ================================================================\n",
        "\n",
        "# ============================\n",
        "#  Utilidades generales\n",
        "# ============================\n",
        "import numpy as np\n",
        "import pandas as pd\n",
        "import time\n",
        "import os\n",
        "import warnings\n",
        "warnings.filterwarnings(\"ignore\")  # Opcional: suprime warnings en notebooks\n",
        "\n",
        "# ============================\n",
        "#  Modelos de regresión\n",
        "# ============================\n",
        "from sklearn.linear_model import (\n",
        "    LinearRegression,\n",
        "    Lasso, LassoCV,\n",
        "    ElasticNet, ElasticNetCV,\n",
        "    SGDRegressor,\n",
        "    BayesianRidge\n",
        ")\n",
        "from sklearn.kernel_ridge import KernelRidge\n",
        "from sklearn.ensemble import RandomForestRegressor\n",
        "from sklearn.gaussian_process import GaussianProcessRegressor\n",
        "from sklearn.svm import SVR\n",
        "from sklearn.model_selection import learning_curve\n",
        "# ============================\n",
        "#  Validación y búsqueda\n",
        "# ============================\n",
        "from sklearn.model_selection import (\n",
        "    KFold,\n",
        "    GridSearchCV,\n",
        "    RandomizedSearchCV,\n",
        "    learning_curve,\n",
        "    cross_validate,\n",
        "    cross_val_predict\n",
        ")\n",
        "\n",
        "# ============================\n",
        "#  Métricas y scoring\n",
        "# ============================\n",
        "from sklearn.metrics import (\n",
        "    mean_absolute_error,       # MAE\n",
        "    mean_squared_error,        # MSE\n",
        "    r2_score,                  # R²\n",
        "    mean_absolute_percentage_error,  # MAPE\n",
        "    make_scorer                # Para definir MAPE como scorer\n",
        ")\n",
        "\n",
        "# ============================\n",
        "# Diagnóstico estadístico\n",
        "# ============================\n",
        "from scipy.stats import shapiro, kurtosis, skew\n",
        "from statsmodels.stats.stattools import durbin_watson\n",
        "from statsmodels.stats.outliers_influence import variance_inflation_factor\n",
        "from statsmodels.tools.tools import add_constant\n",
        "\n",
        "# ============================\n",
        "#  Visualización\n",
        "# ============================\n",
        "import matplotlib.pyplot as plt\n",
        "import scipy.stats as stats  # necesario para pruebas estadísticas\n",
        "\n",
        "import seaborn as sns\n",
        "\n"
      ]
    },
    {
      "cell_type": "code",
      "execution_count": 192,
      "metadata": {
        "id": "yIaHCdwP8VpZ"
      },
      "outputs": [],
      "source": [
        "# === DEFINICIÓN DE MÉTRICA PERSONALIZADA: MAPE ===\n",
        "\n",
        "# MAPE no está directamente disponible en sklearn, por lo que se define manualmente.\n",
        "# Esta métrica mide el error absoluto medio en porcentaje, útil para interpretar desviaciones relativas.\n",
        "\n",
        "def mean_absolute_percentage_error(y_true, y_pred):\n",
        "    # Reemplaza ceros en y_true para evitar divisiones por cero (buena práctica numérica)\n",
        "    y_true = np.where(y_true == 0, np.finfo(float).eps, y_true)\n",
        "    return np.mean(np.abs((y_true - y_pred) / y_true)) * 100\n",
        "\n",
        "# Se integra la función MAPE a sklearn como un scorer compatible con cross_validate\n",
        "# Se indica que un menor valor es mejor (greater_is_better=False)\n",
        "mape_scorer = make_scorer(mean_absolute_percentage_error, greater_is_better=False)\n"
      ]
    },
    {
      "cell_type": "code",
      "execution_count": 193,
      "metadata": {
        "id": "t1tx89Zw8X7G"
      },
      "outputs": [],
      "source": [
        "# === DEFINICIÓN DEL ESQUEMA DE VALIDACIÓN CRUZADA ===\n",
        "\n",
        "# Se utiliza validación cruzada estratificada con 5 divisiones (folds)\n",
        "# shuffle=True mezcla los datos antes de dividirlos (buena práctica)\n",
        "# random_state permite reproducibilidad\n",
        "cv = KFold(n_splits=5, shuffle=True, random_state=42)\n"
      ]
    },
    {
      "cell_type": "code",
      "execution_count": 194,
      "metadata": {
        "id": "EOCchIc48cph"
      },
      "outputs": [],
      "source": [
        "# === DEFINICIÓN DE MÉTRICAS DE EVALUACIÓN PARA TODOS LOS MODELOS ===\n",
        "\n",
        "# Las métricas estándar (MAE y MSE) son negativas en sklearn por convención (porque se busca minimizar)\n",
        "# R² se mantiene tal cual\n",
        "# MAPE se incluye como scorer personalizado\n",
        "scoring = {\n",
        "    'MAE': 'neg_mean_absolute_error',\n",
        "    'MSE': 'neg_mean_squared_error',\n",
        "    'R2': 'r2',\n",
        "    'MAPE': mape_scorer\n",
        "}\n"
      ]
    },
    {
      "cell_type": "markdown",
      "metadata": {
        "id": "fGEjVEvm8w9m"
      },
      "source": [
        "## Evaluación comparativa de modelos base\n",
        "\n",
        "A continuación se evalúan 9 modelos de regresión sin ajuste de hiperparámetros utilizando validación cruzada con 5 folds.  \n",
        "Se calculan las métricas MAE, MSE, R² y MAPE.  \n",
        "Todos los modelos reciben los datos escalados previamente (`X_train_scaled`, `y_train`).\n",
        "\n",
        "El objetivo de esta sección es establecer una línea base de desempeño para cada regresor antes de realizar ajustes finos.\n"
      ]
    },
    {
      "cell_type": "code",
      "execution_count": 195,
      "metadata": {
        "id": "SR9acD0TAxFL"
      },
      "outputs": [],
      "source": [
        "modelos = {\n",
        "    \"LinearRegression\": LinearRegression(),\n",
        "    \"Lasso\": Lasso(),\n",
        "    \"ElasticNet\": ElasticNet(),\n",
        "    \"SGDRegressor\": SGDRegressor(max_iter=1000, tol=1e-3),\n",
        "    \"BayesianRidge\": BayesianRidge(),\n",
        "    \"KernelRidge\": KernelRidge(),\n",
        "    \"RandomForest\": RandomForestRegressor(random_state=42),\n",
        "    \"GaussianProcess\": GaussianProcessRegressor(),\n",
        "    \"SVR\": SVR()\n",
        "}\n"
      ]
    },
    {
      "cell_type": "code",
      "execution_count": 196,
      "metadata": {
        "id": "S4LV6MgfA_XJ"
      },
      "outputs": [],
      "source": [
        "def evaluar_modelo_cv(nombre_modelo, modelo, X, y, cv, scoring, guardar_en=None):\n",
        "    \"\"\"\n",
        "    Evalúa un modelo usando validación cruzada fold a fold,\n",
        "    genera un DataFrame con resultados detallados y opcionalmente guarda el CSV.\n",
        "    Ahora incluye una fila final 'Promedio' claramente etiquetada.\n",
        "    \"\"\"\n",
        "\n",
        "    # Evaluación con validación cruzada\n",
        "    resultados = cross_validate(\n",
        "        estimator=modelo,\n",
        "        X=X,\n",
        "        y=y,\n",
        "        cv=cv,\n",
        "        scoring=scoring,\n",
        "        return_train_score=False,\n",
        "        n_jobs=-1\n",
        "    )\n",
        "\n",
        "    # Crear DataFrame por fold\n",
        "    df_resultados = pd.DataFrame({\n",
        "        \"Fold\": np.arange(1, cv.get_n_splits() + 1),\n",
        "        \"MAE\": -resultados[\"test_MAE\"],\n",
        "        \"MSE\": -resultados[\"test_MSE\"],\n",
        "        \"R2\": resultados[\"test_R2\"],\n",
        "        \"MAPE\": -resultados[\"test_MAPE\"]\n",
        "    })\n",
        "\n",
        "    # Fila promedio con etiqueta explícita\n",
        "    promedio = df_resultados.mean(numeric_only=True)\n",
        "    promedio[\"Fold\"] = \"Promedio\"\n",
        "\n",
        "    # Añadir al DataFrame\n",
        "    df_resultados = pd.concat([df_resultados, pd.DataFrame([promedio])], ignore_index=True)\n",
        "\n",
        "    # Asegurar orden de columnas\n",
        "    cols = [\"Fold\", \"MAE\", \"MSE\", \"R2\", \"MAPE\"]\n",
        "    df_resultados = df_resultados[cols]\n",
        "\n",
        "    # Guardar si se indica\n",
        "    if guardar_en:\n",
        "        os.makedirs(os.path.dirname(guardar_en), exist_ok=True)\n",
        "        df_resultados.to_csv(guardar_en, index=False)\n",
        "        print(f\"Resultados de {nombre_modelo} guardados en: {guardar_en}\")\n",
        "\n",
        "    return df_resultados\n",
        "\n"
      ]
    },
    {
      "cell_type": "markdown",
      "metadata": {
        "id": "_toNWcLhBKmo"
      },
      "source": [
        "## Modelo 1: Linear Regression\n",
        "\n",
        "Se evalúa el modelo **LinearRegression** como línea base sin regularización.  \n",
        "Se usa validación cruzada de 5 folds y se reportan las métricas MAE, MSE, R² y MAPE.  \n",
        "Los resultados se almacenan para comparación futura y trazabilidad.\n"
      ]
    },
    {
      "cell_type": "code",
      "execution_count": 197,
      "metadata": {
        "colab": {
          "base_uri": "https://localhost:8080/",
          "height": 387
        },
        "id": "7vNIxvvKBcxV",
        "outputId": "232c715f-e4b2-4c3f-84b7-8fedfd00376f"
      },
      "outputs": [
        {
          "output_type": "display_data",
          "data": {
            "text/plain": [
              "<Figure size 1200x400 with 2 Axes>"
            ],
            "image/png": "[encoded data removed]"
          },
          "metadata": {}
        }
      ],
      "source": [
        "# === Paso 1: Transformación logarítmica de la variable objetivo ===\n",
        "\n",
        "# Aplicar transformación logarítmica para suavizar la distribución del precio\n",
        "y_train_log = np.log1p(y_train)\n",
        "y_test_log = np.log1p(y_test)\n",
        "\n",
        "# También preparamos los valores reales para revertir predicciones más adelante\n",
        "y_train_real = np.expm1(y_train_log)\n",
        "y_test_real = np.expm1(y_test_log)\n",
        "\n",
        "# Verificación visual de la transformación\n",
        "\n",
        "plt.figure(figsize=(12, 4))\n",
        "\n",
        "# Distribución original\n",
        "plt.subplot(1, 2, 1)\n",
        "sns.histplot(y_train, kde=True, color=\"steelblue\")\n",
        "plt.title(\"Distribución original de SalePrice\")\n",
        "plt.xlabel(\"SalePrice\")\n",
        "\n",
        "# Distribución transformada\n",
        "plt.subplot(1, 2, 2)\n",
        "sns.histplot(y_train_log, kde=True, color=\"darkorange\")\n",
        "plt.title(\"Distribución log1p(SalePrice)\")\n",
        "plt.xlabel(\"log1p(SalePrice)\")\n",
        "\n",
        "plt.tight_layout()\n",
        "plt.show()\n"
      ]
    },
    {
      "cell_type": "code",
      "source": [
        "# === Paso 2: Entrenamiento base del modelo LinearRegression con validación cruzada ===\n",
        "\n",
        "# Instanciar el modelo\n",
        "modelo_lr = LinearRegression()\n",
        "\n",
        "# Evaluar con validación cruzada usando la variable transformada y_train_log\n",
        "df_resultados_lr = evaluar_modelo_cv(\n",
        "    nombre_modelo=\"LinearRegression\",\n",
        "    modelo=modelo_lr,\n",
        "    X=X_train_scaled,\n",
        "    y=y_train_log,\n",
        "    cv=cv,\n",
        "    scoring=scoring,\n",
        "    guardar_en=\"data/resultados_lr.csv\"\n",
        ")\n",
        "\n",
        "# Mostrar resultados\n",
        "print(\"Resultados de validación cruzada - LinearRegression:\")\n",
        "display(df_resultados_lr)\n"
      ],
      "metadata": {
        "colab": {
          "base_uri": "https://localhost:8080/",
          "height": 272
        },
        "id": "G47y6jIf6xE1",
        "outputId": "bc615de4-c028-4e9b-f4fb-5e60d373ede4"
      },
      "execution_count": 198,
      "outputs": [
        {
          "output_type": "stream",
          "name": "stdout",
          "text": [
            "Resultados de LinearRegression guardados en: data/resultados_lr.csv\n",
            "Resultados de validación cruzada - LinearRegression:\n"
          ]
        },
        {
          "output_type": "display_data",
          "data": {
            "text/plain": [
              "       Fold       MAE       MSE        R2      MAPE\n",
              "0         1  0.086342  0.017176  0.887080  0.727293\n",
              "1         2  0.084680  0.025224  0.827466  0.709762\n",
              "2         3  0.087389  0.022708  0.858326  0.730929\n",
              "3         4  0.080434  0.014490  0.912001  0.674397\n",
              "4         5  0.093922  0.035642  0.802860  0.800342\n",
              "5  Promedio  0.086553  0.023048  0.857547  0.728545"
            ],
            "text/html": [
              "\n",
              "  <div id=\"df-b50c0e86-40d7-4b53-9482-06829d861f59\" class=\"colab-df-container\">\n",
              "    <div>\n",
              "<style scoped>\n",
              "    .dataframe tbody tr th:only-of-type {\n",
              "        vertical-align: middle;\n",
              "    }\n",
              "\n",
              "    .dataframe tbody tr th {\n",
              "        vertical-align: top;\n",
              "    }\n",
              "\n",
              "    .dataframe thead th {\n",
              "        text-align: right;\n",
              "    }\n",
              "</style>\n",
              "<table border=\"1\" class=\"dataframe\">\n",
              "  <thead>\n",
              "    <tr style=\"text-align: right;\">\n",
              "      <th></th>\n",
              "      <th>Fold</th>\n",
              "      <th>MAE</th>\n",
              "      <th>MSE</th>\n",
              "      <th>R2</th>\n",
              "      <th>MAPE</th>\n",
              "    </tr>\n",
              "  </thead>\n",
              "  <tbody>\n",
              "    <tr>\n",
              "      <th>0</th>\n",
              "      <td>1</td>\n",
              "      <td>0.086342</td>\n",
              "      <td>0.017176</td>\n",
              "      <td>0.887080</td>\n",
              "      <td>0.727293</td>\n",
              "    </tr>\n",
              "    <tr>\n",
              "      <th>1</th>\n",
              "      <td>2</td>\n",
              "      <td>0.084680</td>\n",
              "      <td>0.025224</td>\n",
              "      <td>0.827466</td>\n",
              "      <td>0.709762</td>\n",
              "    </tr>\n",
              "    <tr>\n",
              "      <th>2</th>\n",
              "      <td>3</td>\n",
              "      <td>0.087389</td>\n",
              "      <td>0.022708</td>\n",
              "      <td>0.858326</td>\n",
              "      <td>0.730929</td>\n",
              "    </tr>\n",
              "    <tr>\n",
              "      <th>3</th>\n",
              "      <td>4</td>\n",
              "      <td>0.080434</td>\n",
              "      <td>0.014490</td>\n",
              "      <td>0.912001</td>\n",
              "      <td>0.674397</td>\n",
              "    </tr>\n",
              "    <tr>\n",
              "      <th>4</th>\n",
              "      <td>5</td>\n",
              "      <td>0.093922</td>\n",
              "      <td>0.035642</td>\n",
              "      <td>0.802860</td>\n",
              "      <td>0.800342</td>\n",
              "    </tr>\n",
              "    <tr>\n",
              "      <th>5</th>\n",
              "      <td>Promedio</td>\n",
              "      <td>0.086553</td>\n",
              "      <td>0.023048</td>\n",
              "      <td>0.857547</td>\n",
              "      <td>0.728545</td>\n",
              "    </tr>\n",
              "  </tbody>\n",
              "</table>\n",
              "</div>\n",
              "    <div class=\"colab-df-buttons\">\n",
              "\n",
              "  <div class=\"colab-df-container\">\n",
              "    <button class=\"colab-df-convert\" onclick=\"convertToInteractive('df-b50c0e86-40d7-4b53-9482-06829d861f59')\"\n",
              "            title=\"Convert this dataframe to an interactive table.\"\n",
              "            style=\"display:none;\">\n",
              "\n",
              "  <svg xmlns=\"http://www.w3.org/2000/svg\" height=\"24px\" viewBox=\"0 -960 960 960\">\n",
              "    <path d=\"M120-120v-720h720v720H120Zm60-500h600v-160H180v160Zm220 220h160v-160H400v160Zm0 220h160v-160H400v160ZM180-400h160v-160H180v160Zm440 0h160v-160H620v160ZM180-180h160v-160H180v160Zm440 0h160v-160H620v160Z\"/>\n",
              "  </svg>\n",
              "    </button>\n",
              "\n",
              "  <style>\n",
              "    .colab-df-container {\n",
              "      display:flex;\n",
              "      gap: 12px;\n",
              "    }\n",
              "\n",
              "    .colab-df-convert {\n",
              "      background-color: #E8F0FE;\n",
              "      border: none;\n",
              "      border-radius: 50%;\n",
              "      cursor: pointer;\n",
              "      display: none;\n",
              "      fill: #1967D2;\n",
              "      height: 32px;\n",
              "      padding: 0 0 0 0;\n",
              "      width: 32px;\n",
              "    }\n",
              "\n",
              "    .colab-df-convert:hover {\n",
              "      background-color: #E2EBFA;\n",
              "      box-shadow: 0px 1px 2px rgba(60, 64, 67, 0.3), 0px 1px 3px 1px rgba(60, 64, 67, 0.15);\n",
              "      fill: #174EA6;\n",
              "    }\n",
              "\n",
              "    .colab-df-buttons div {\n",
              "      margin-bottom: 4px;\n",
              "    }\n",
              "\n",
              "    [theme=dark] .colab-df-convert {\n",
              "      background-color: #3B4455;\n",
              "      fill: #D2E3FC;\n",
              "    }\n",
              "\n",
              "    [theme=dark] .colab-df-convert:hover {\n",
              "      background-color: #434B5C;\n",
              "      box-shadow: 0px 1px 3px 1px rgba(0, 0, 0, 0.15);\n",
              "      filter: drop-shadow(0px 1px 2px rgba(0, 0, 0, 0.3));\n",
              "      fill: #FFFFFF;\n",
              "    }\n",
              "  </style>\n",
              "\n",
              "    <script>\n",
              "      const buttonEl =\n",
              "        document.querySelector('#df-b50c0e86-40d7-4b53-9482-06829d861f59 button.colab-df-convert');\n",
              "      buttonEl.style.display =\n",
              "        google.colab.kernel.accessAllowed ? 'block' : 'none';\n",
              "\n",
              "      async function convertToInteractive(key) {\n",
              "        const element = document.querySelector('#df-b50c0e86-40d7-4b53-9482-06829d861f59');\n",
              "        const dataTable =\n",
              "          await google.colab.kernel.invokeFunction('convertToInteractive',\n",
              "                                                    [key], {});\n",
              "        if (!dataTable) return;\n",
              "\n",
              "        const docLinkHtml = 'Like what you see? Visit the ' +\n",
              "          '<a target=\"_blank\" href=https://colab.research.google.com/notebooks/data_table.ipynb>data table notebook</a>'\n",
              "          + ' to learn more about interactive tables.';\n",
              "        element.innerHTML = '';\n",
              "        dataTable['output_type'] = 'display_data';\n",
              "        await google.colab.output.renderOutput(dataTable, element);\n",
              "        const docLink = document.createElement('div');\n",
              "        docLink.innerHTML = docLinkHtml;\n",
              "        element.appendChild(docLink);\n",
              "      }\n",
              "    </script>\n",
              "  </div>\n",
              "\n",
              "\n",
              "    <div id=\"df-876e5703-a78b-420f-a87c-a11e75354394\">\n",
              "      <button class=\"colab-df-quickchart\" onclick=\"quickchart('df-876e5703-a78b-420f-a87c-a11e75354394')\"\n",
              "                title=\"Suggest charts\"\n",
              "                style=\"display:none;\">\n",
              "\n",
              "<svg xmlns=\"http://www.w3.org/2000/svg\" height=\"24px\"viewBox=\"0 0 24 24\"\n",
              "     width=\"24px\">\n",
              "    <g>\n",
              "        <path d=\"M19 3H5c-1.1 0-2 .9-2 2v14c0 1.1.9 2 2 2h14c1.1 0 2-.9 2-2V5c0-1.1-.9-2-2-2zM9 17H7v-7h2v7zm4 0h-2V7h2v10zm4 0h-2v-4h2v4z\"/>\n",
              "    </g>\n",
              "</svg>\n",
              "      </button>\n",
              "\n",
              "<style>\n",
              "  .colab-df-quickchart {\n",
              "      --bg-color: #E8F0FE;\n",
              "      --fill-color: #1967D2;\n",
              "      --hover-bg-color: #E2EBFA;\n",
              "      --hover-fill-color: #174EA6;\n",
              "      --disabled-fill-color: #AAA;\n",
              "      --disabled-bg-color: #DDD;\n",
              "  }\n",
              "\n",
              "  [theme=dark] .colab-df-quickchart {\n",
              "      --bg-color: #3B4455;\n",
              "      --fill-color: #D2E3FC;\n",
              "      --hover-bg-color: #434B5C;\n",
              "      --hover-fill-color: #FFFFFF;\n",
              "      --disabled-bg-color: #3B4455;\n",
              "      --disabled-fill-color: #666;\n",
              "  }\n",
              "\n",
              "  .colab-df-quickchart {\n",
              "    background-color: var(--bg-color);\n",
              "    border: none;\n",
              "    border-radius: 50%;\n",
              "    cursor: pointer;\n",
              "    display: none;\n",
              "    fill: var(--fill-color);\n",
              "    height: 32px;\n",
              "    padding: 0;\n",
              "    width: 32px;\n",
              "  }\n",
              "\n",
              "  .colab-df-quickchart:hover {\n",
              "    background-color: var(--hover-bg-color);\n",
              "    box-shadow: 0 1px 2px rgba(60, 64, 67, 0.3), 0 1px 3px 1px rgba(60, 64, 67, 0.15);\n",
              "    fill: var(--button-hover-fill-color);\n",
              "  }\n",
              "\n",
              "  .colab-df-quickchart-complete:disabled,\n",
              "  .colab-df-quickchart-complete:disabled:hover {\n",
              "    background-color: var(--disabled-bg-color);\n",
              "    fill: var(--disabled-fill-color);\n",
              "    box-shadow: none;\n",
              "  }\n",
              "\n",
              "  .colab-df-spinner {\n",
              "    border: 2px solid var(--fill-color);\n",
              "    border-color: transparent;\n",
              "    border-bottom-color: var(--fill-color);\n",
              "    animation:\n",
              "      spin 1s steps(1) infinite;\n",
              "  }\n",
              "\n",
              "  @keyframes spin {\n",
              "    0% {\n",
              "      border-color: transparent;\n",
              "      border-bottom-color: var(--fill-color);\n",
              "      border-left-color: var(--fill-color);\n",
              "    }\n",
              "    20% {\n",
              "      border-color: transparent;\n",
              "      border-left-color: var(--fill-color);\n",
              "      border-top-color: var(--fill-color);\n",
              "    }\n",
              "    30% {\n",
              "      border-color: transparent;\n",
              "      border-left-color: var(--fill-color);\n",
              "      border-top-color: var(--fill-color);\n",
              "      border-right-color: var(--fill-color);\n",
              "    }\n",
              "    40% {\n",
              "      border-color: transparent;\n",
              "      border-right-color: var(--fill-color);\n",
              "      border-top-color: var(--fill-color);\n",
              "    }\n",
              "    60% {\n",
              "      border-color: transparent;\n",
              "      border-right-color: var(--fill-color);\n",
              "    }\n",
              "    80% {\n",
              "      border-color: transparent;\n",
              "      border-right-color: var(--fill-color);\n",
              "      border-bottom-color: var(--fill-color);\n",
              "    }\n",
              "    90% {\n",
              "      border-color: transparent;\n",
              "      border-bottom-color: var(--fill-color);\n",
              "    }\n",
              "  }\n",
              "</style>\n",
              "\n",
              "      <script>\n",
              "        async function quickchart(key) {\n",
              "          const quickchartButtonEl =\n",
              "            document.querySelector('#' + key + ' button');\n",
              "          quickchartButtonEl.disabled = true;  // To prevent multiple clicks.\n",
              "          quickchartButtonEl.classList.add('colab-df-spinner');\n",
              "          try {\n",
              "            const charts = await google.colab.kernel.invokeFunction(\n",
              "                'suggestCharts', [key], {});\n",
              "          } catch (error) {\n",
              "            console.error('Error during call to suggestCharts:', error);\n",
              "          }\n",
              "          quickchartButtonEl.classList.remove('colab-df-spinner');\n",
              "          quickchartButtonEl.classList.add('colab-df-quickchart-complete');\n",
              "        }\n",
              "        (() => {\n",
              "          let quickchartButtonEl =\n",
              "            document.querySelector('#df-876e5703-a78b-420f-a87c-a11e75354394 button');\n",
              "          quickchartButtonEl.style.display =\n",
              "            google.colab.kernel.accessAllowed ? 'block' : 'none';\n",
              "        })();\n",
              "      </script>\n",
              "    </div>\n",
              "\n",
              "  <div id=\"id_f2490601-9c15-417c-84fe-a35bab648abd\">\n",
              "    <style>\n",
              "      .colab-df-generate {\n",
              "        background-color: #E8F0FE;\n",
              "        border: none;\n",
              "        border-radius: 50%;\n",
              "        cursor: pointer;\n",
              "        display: none;\n",
              "        fill: #1967D2;\n",
              "        height: 32px;\n",
              "        padding: 0 0 0 0;\n",
              "        width: 32px;\n",
              "      }\n",
              "\n",
              "      .colab-df-generate:hover {\n",
              "        background-color: #E2EBFA;\n",
              "        box-shadow: 0px 1px 2px rgba(60, 64, 67, 0.3), 0px 1px 3px 1px rgba(60, 64, 67, 0.15);\n",
              "        fill: #174EA6;\n",
              "      }\n",
              "\n",
              "      [theme=dark] .colab-df-generate {\n",
              "        background-color: #3B4455;\n",
              "        fill: #D2E3FC;\n",
              "      }\n",
              "\n",
              "      [theme=dark] .colab-df-generate:hover {\n",
              "        background-color: #434B5C;\n",
              "        box-shadow: 0px 1px 3px 1px rgba(0, 0, 0, 0.15);\n",
              "        filter: drop-shadow(0px 1px 2px rgba(0, 0, 0, 0.3));\n",
              "        fill: #FFFFFF;\n",
              "      }\n",
              "    </style>\n",
              "    <button class=\"colab-df-generate\" onclick=\"generateWithVariable('df_resultados_lr')\"\n",
              "            title=\"Generate code using this dataframe.\"\n",
              "            style=\"display:none;\">\n",
              "\n",
              "  <svg xmlns=\"http://www.w3.org/2000/svg\" height=\"24px\"viewBox=\"0 0 24 24\"\n",
              "       width=\"24px\">\n",
              "    <path d=\"M7,19H8.4L18.45,9,17,7.55,7,17.6ZM5,21V16.75L18.45,3.32a2,2,0,0,1,2.83,0l1.4,1.43a1.91,1.91,0,0,1,.58,1.4,1.91,1.91,0,0,1-.58,1.4L9.25,21ZM18.45,9,17,7.55Zm-12,3A5.31,5.31,0,0,0,4.9,8.1,5.31,5.31,0,0,0,1,6.5,5.31,5.31,0,0,0,4.9,4.9,5.31,5.31,0,0,0,6.5,1,5.31,5.31,0,0,0,8.1,4.9,5.31,5.31,0,0,0,12,6.5,5.46,5.46,0,0,0,6.5,12Z\"/>\n",
              "  </svg>\n",
              "    </button>\n",
              "    <script>\n",
              "      (() => {\n",
              "      const buttonEl =\n",
              "        document.querySelector('#id_f2490601-9c15-417c-84fe-a35bab648abd button.colab-df-generate');\n",
              "      buttonEl.style.display =\n",
              "        google.colab.kernel.accessAllowed ? 'block' : 'none';\n",
              "\n",
              "      buttonEl.onclick = () => {\n",
              "        google.colab.notebook.generateWithVariable('df_resultados_lr');\n",
              "      }\n",
              "      })();\n",
              "    </script>\n",
              "  </div>\n",
              "\n",
              "    </div>\n",
              "  </div>\n"
            ],
            "application/vnd.google.colaboratory.intrinsic+json": {
              "type": "dataframe",
              "variable_name": "df_resultados_lr",
              "summary": "{\n  \"name\": \"df_resultados_lr\",\n  \"rows\": 6,\n  \"fields\": [\n    {\n      \"column\": \"Fold\",\n      \"properties\": {\n        \"dtype\": \"string\",\n        \"num_unique_values\": 6,\n        \"samples\": [\n          1,\n          2,\n          \"Promedio\"\n        ],\n        \"semantic_type\": \"\",\n        \"description\": \"\"\n      }\n    },\n    {\n      \"column\": \"MAE\",\n      \"properties\": {\n        \"dtype\": \"number\",\n        \"std\": 0.004381986988345723,\n        \"min\": 0.08043353134128191,\n        \"max\": 0.09392246944845936,\n        \"num_unique_values\": 6,\n        \"samples\": [\n          0.08634192584420025,\n          0.08467981322323334,\n          0.08655332365593638\n        ],\n        \"semantic_type\": \"\",\n        \"description\": \"\"\n      }\n    },\n    {\n      \"column\": \"MSE\",\n      \"properties\": {\n        \"dtype\": \"number\",\n        \"std\": 0.0073646295329652675,\n        \"min\": 0.0144902708113909,\n        \"max\": 0.03564246230471898,\n        \"num_unique_values\": 6,\n        \"samples\": [\n          0.017175723697646965,\n          0.025223806895484032,\n          0.023047974385749005\n        ],\n        \"semantic_type\": \"\",\n        \"description\": \"\"\n      }\n    },\n    {\n      \"column\": \"R2\",\n      \"properties\": {\n        \"dtype\": \"number\",\n        \"std\": 0.03932837211557632,\n        \"min\": 0.8028596802768554,\n        \"max\": 0.9120009892066717,\n        \"num_unique_values\": 6,\n        \"samples\": [\n          0.8870803599792765,\n          0.8274664694402578,\n          0.8575466839085456\n        ],\n        \"semantic_type\": \"\",\n        \"description\": \"\"\n      }\n    },\n    {\n      \"column\": \"MAPE\",\n      \"properties\": {\n        \"dtype\": \"number\",\n        \"std\": 0.0411018106844249,\n        \"min\": 0.6743974456955354,\n        \"max\": 0.8003417165854451,\n        \"num_unique_values\": 6,\n        \"samples\": [\n          0.7272926161381685,\n          0.7097616291933897,\n          0.7285445284581852\n        ],\n        \"semantic_type\": \"\",\n        \"description\": \"\"\n      }\n    }\n  ]\n}"
            }
          },
          "metadata": {}
        }
      ]
    },
    {
      "cell_type": "code",
      "source": [
        "# Reentrenar el modelo con todos los datos de entrenamiento\n",
        "modelo_lr.fit(X_train_scaled, y_train_log)\n",
        "\n",
        "# Realizar predicciones sobre el set de prueba\n",
        "y_pred_log = modelo_lr.predict(X_test_scaled)\n",
        "y_pred = np.expm1(y_pred_log)  # revertir la transformación logarítmica\n",
        "\n",
        "# Calcular métricas de desempeño\n",
        "mae = mean_absolute_error(y_test, y_pred)\n",
        "mse = mean_squared_error(y_test, y_pred)\n",
        "rmse = np.sqrt(mse)\n",
        "r2 = r2_score(y_test, y_pred)\n",
        "mape = mean_absolute_percentage_error(y_test, y_pred)\n",
        "\n",
        "# Consolidar métricas en un DataFrame\n",
        "df_test_metrics_lr = pd.DataFrame({\n",
        "    'Modelo': ['LinearRegression'],\n",
        "    'MAE': [mae],\n",
        "    'MSE': [mse],\n",
        "    'RMSE': [rmse],\n",
        "    'R2': [r2],\n",
        "    'MAPE': [mape]\n",
        "})\n",
        "\n",
        "# Exportar a CSV\n",
        "df_test_metrics_lr.to_csv(\"data/resultados_test_lr.csv\", index=False)\n",
        "\n",
        "# Mostrar\n",
        "print(\"Métricas sobre el conjunto de prueba - LinearRegression:\")\n",
        "display(df_test_metrics_lr)\n"
      ],
      "metadata": {
        "colab": {
          "base_uri": "https://localhost:8080/",
          "height": 106
        },
        "id": "9_OlFk6k7MBf",
        "outputId": "84c9d4d8-8bba-4248-dfda-3a8394168446"
      },
      "execution_count": 199,
      "outputs": [
        {
          "output_type": "stream",
          "name": "stdout",
          "text": [
            "Métricas sobre el conjunto de prueba - LinearRegression:\n"
          ]
        },
        {
          "output_type": "display_data",
          "data": {
            "text/plain": [
              "             Modelo           MAE           MSE          RMSE        R2  \\\n",
              "0  LinearRegression  14364.578757  9.110926e+08  30184.310928  0.886363   \n",
              "\n",
              "       MAPE  \n",
              "0  7.766109  "
            ],
            "text/html": [
              "\n",
              "  <div id=\"df-6cb05982-9106-473c-8c37-413502c36d43\" class=\"colab-df-container\">\n",
              "    <div>\n",
              "<style scoped>\n",
              "    .dataframe tbody tr th:only-of-type {\n",
              "        vertical-align: middle;\n",
              "    }\n",
              "\n",
              "    .dataframe tbody tr th {\n",
              "        vertical-align: top;\n",
              "    }\n",
              "\n",
              "    .dataframe thead th {\n",
              "        text-align: right;\n",
              "    }\n",
              "</style>\n",
              "<table border=\"1\" class=\"dataframe\">\n",
              "  <thead>\n",
              "    <tr style=\"text-align: right;\">\n",
              "      <th></th>\n",
              "      <th>Modelo</th>\n",
              "      <th>MAE</th>\n",
              "      <th>MSE</th>\n",
              "      <th>RMSE</th>\n",
              "      <th>R2</th>\n",
              "      <th>MAPE</th>\n",
              "    </tr>\n",
              "  </thead>\n",
              "  <tbody>\n",
              "    <tr>\n",
              "      <th>0</th>\n",
              "      <td>LinearRegression</td>\n",
              "      <td>14364.578757</td>\n",
              "      <td>9.110926e+08</td>\n",
              "      <td>30184.310928</td>\n",
              "      <td>0.886363</td>\n",
              "      <td>7.766109</td>\n",
              "    </tr>\n",
              "  </tbody>\n",
              "</table>\n",
              "</div>\n",
              "    <div class=\"colab-df-buttons\">\n",
              "\n",
              "  <div class=\"colab-df-container\">\n",
              "    <button class=\"colab-df-convert\" onclick=\"convertToInteractive('df-6cb05982-9106-473c-8c37-413502c36d43')\"\n",
              "            title=\"Convert this dataframe to an interactive table.\"\n",
              "            style=\"display:none;\">\n",
              "\n",
              "  <svg xmlns=\"http://www.w3.org/2000/svg\" height=\"24px\" viewBox=\"0 -960 960 960\">\n",
              "    <path d=\"M120-120v-720h720v720H120Zm60-500h600v-160H180v160Zm220 220h160v-160H400v160Zm0 220h160v-160H400v160ZM180-400h160v-160H180v160Zm440 0h160v-160H620v160ZM180-180h160v-160H180v160Zm440 0h160v-160H620v160Z\"/>\n",
              "  </svg>\n",
              "    </button>\n",
              "\n",
              "  <style>\n",
              "    .colab-df-container {\n",
              "      display:flex;\n",
              "      gap: 12px;\n",
              "    }\n",
              "\n",
              "    .colab-df-convert {\n",
              "      background-color: #E8F0FE;\n",
              "      border: none;\n",
              "      border-radius: 50%;\n",
              "      cursor: pointer;\n",
              "      display: none;\n",
              "      fill: #1967D2;\n",
              "      height: 32px;\n",
              "      padding: 0 0 0 0;\n",
              "      width: 32px;\n",
              "    }\n",
              "\n",
              "    .colab-df-convert:hover {\n",
              "      background-color: #E2EBFA;\n",
              "      box-shadow: 0px 1px 2px rgba(60, 64, 67, 0.3), 0px 1px 3px 1px rgba(60, 64, 67, 0.15);\n",
              "      fill: #174EA6;\n",
              "    }\n",
              "\n",
              "    .colab-df-buttons div {\n",
              "      margin-bottom: 4px;\n",
              "    }\n",
              "\n",
              "    [theme=dark] .colab-df-convert {\n",
              "      background-color: #3B4455;\n",
              "      fill: #D2E3FC;\n",
              "    }\n",
              "\n",
              "    [theme=dark] .colab-df-convert:hover {\n",
              "      background-color: #434B5C;\n",
              "      box-shadow: 0px 1px 3px 1px rgba(0, 0, 0, 0.15);\n",
              "      filter: drop-shadow(0px 1px 2px rgba(0, 0, 0, 0.3));\n",
              "      fill: #FFFFFF;\n",
              "    }\n",
              "  </style>\n",
              "\n",
              "    <script>\n",
              "      const buttonEl =\n",
              "        document.querySelector('#df-6cb05982-9106-473c-8c37-413502c36d43 button.colab-df-convert');\n",
              "      buttonEl.style.display =\n",
              "        google.colab.kernel.accessAllowed ? 'block' : 'none';\n",
              "\n",
              "      async function convertToInteractive(key) {\n",
              "        const element = document.querySelector('#df-6cb05982-9106-473c-8c37-413502c36d43');\n",
              "        const dataTable =\n",
              "          await google.colab.kernel.invokeFunction('convertToInteractive',\n",
              "                                                    [key], {});\n",
              "        if (!dataTable) return;\n",
              "\n",
              "        const docLinkHtml = 'Like what you see? Visit the ' +\n",
              "          '<a target=\"_blank\" href=https://colab.research.google.com/notebooks/data_table.ipynb>data table notebook</a>'\n",
              "          + ' to learn more about interactive tables.';\n",
              "        element.innerHTML = '';\n",
              "        dataTable['output_type'] = 'display_data';\n",
              "        await google.colab.output.renderOutput(dataTable, element);\n",
              "        const docLink = document.createElement('div');\n",
              "        docLink.innerHTML = docLinkHtml;\n",
              "        element.appendChild(docLink);\n",
              "      }\n",
              "    </script>\n",
              "  </div>\n",
              "\n",
              "\n",
              "  <div id=\"id_dde43269-af06-4384-86a0-53edc0762b61\">\n",
              "    <style>\n",
              "      .colab-df-generate {\n",
              "        background-color: #E8F0FE;\n",
              "        border: none;\n",
              "        border-radius: 50%;\n",
              "        cursor: pointer;\n",
              "        display: none;\n",
              "        fill: #1967D2;\n",
              "        height: 32px;\n",
              "        padding: 0 0 0 0;\n",
              "        width: 32px;\n",
              "      }\n",
              "\n",
              "      .colab-df-generate:hover {\n",
              "        background-color: #E2EBFA;\n",
              "        box-shadow: 0px 1px 2px rgba(60, 64, 67, 0.3), 0px 1px 3px 1px rgba(60, 64, 67, 0.15);\n",
              "        fill: #174EA6;\n",
              "      }\n",
              "\n",
              "      [theme=dark] .colab-df-generate {\n",
              "        background-color: #3B4455;\n",
              "        fill: #D2E3FC;\n",
              "      }\n",
              "\n",
              "      [theme=dark] .colab-df-generate:hover {\n",
              "        background-color: #434B5C;\n",
              "        box-shadow: 0px 1px 3px 1px rgba(0, 0, 0, 0.15);\n",
              "        filter: drop-shadow(0px 1px 2px rgba(0, 0, 0, 0.3));\n",
              "        fill: #FFFFFF;\n",
              "      }\n",
              "    </style>\n",
              "    <button class=\"colab-df-generate\" onclick=\"generateWithVariable('df_test_metrics_lr')\"\n",
              "            title=\"Generate code using this dataframe.\"\n",
              "            style=\"display:none;\">\n",
              "\n",
              "  <svg xmlns=\"http://www.w3.org/2000/svg\" height=\"24px\"viewBox=\"0 0 24 24\"\n",
              "       width=\"24px\">\n",
              "    <path d=\"M7,19H8.4L18.45,9,17,7.55,7,17.6ZM5,21V16.75L18.45,3.32a2,2,0,0,1,2.83,0l1.4,1.43a1.91,1.91,0,0,1,.58,1.4,1.91,1.91,0,0,1-.58,1.4L9.25,21ZM18.45,9,17,7.55Zm-12,3A5.31,5.31,0,0,0,4.9,8.1,5.31,5.31,0,0,0,1,6.5,5.31,5.31,0,0,0,4.9,4.9,5.31,5.31,0,0,0,6.5,1,5.31,5.31,0,0,0,8.1,4.9,5.31,5.31,0,0,0,12,6.5,5.46,5.46,0,0,0,6.5,12Z\"/>\n",
              "  </svg>\n",
              "    </button>\n",
              "    <script>\n",
              "      (() => {\n",
              "      const buttonEl =\n",
              "        document.querySelector('#id_dde43269-af06-4384-86a0-53edc0762b61 button.colab-df-generate');\n",
              "      buttonEl.style.display =\n",
              "        google.colab.kernel.accessAllowed ? 'block' : 'none';\n",
              "\n",
              "      buttonEl.onclick = () => {\n",
              "        google.colab.notebook.generateWithVariable('df_test_metrics_lr');\n",
              "      }\n",
              "      })();\n",
              "    </script>\n",
              "  </div>\n",
              "\n",
              "    </div>\n",
              "  </div>\n"
            ],
            "application/vnd.google.colaboratory.intrinsic+json": {
              "type": "dataframe",
              "variable_name": "df_test_metrics_lr",
              "summary": "{\n  \"name\": \"df_test_metrics_lr\",\n  \"rows\": 1,\n  \"fields\": [\n    {\n      \"column\": \"Modelo\",\n      \"properties\": {\n        \"dtype\": \"string\",\n        \"num_unique_values\": 1,\n        \"samples\": [\n          \"LinearRegression\"\n        ],\n        \"semantic_type\": \"\",\n        \"description\": \"\"\n      }\n    },\n    {\n      \"column\": \"MAE\",\n      \"properties\": {\n        \"dtype\": \"number\",\n        \"std\": null,\n        \"min\": 14364.578757062945,\n        \"max\": 14364.578757062945,\n        \"num_unique_values\": 1,\n        \"samples\": [\n          14364.578757062945\n        ],\n        \"semantic_type\": \"\",\n        \"description\": \"\"\n      }\n    },\n    {\n      \"column\": \"MSE\",\n      \"properties\": {\n        \"dtype\": \"number\",\n        \"std\": null,\n        \"min\": 911092626.1765904,\n        \"max\": 911092626.1765904,\n        \"num_unique_values\": 1,\n        \"samples\": [\n          911092626.1765904\n        ],\n        \"semantic_type\": \"\",\n        \"description\": \"\"\n      }\n    },\n    {\n      \"column\": \"RMSE\",\n      \"properties\": {\n        \"dtype\": \"number\",\n        \"std\": null,\n        \"min\": 30184.310927642367,\n        \"max\": 30184.310927642367,\n        \"num_unique_values\": 1,\n        \"samples\": [\n          30184.310927642367\n        ],\n        \"semantic_type\": \"\",\n        \"description\": \"\"\n      }\n    },\n    {\n      \"column\": \"R2\",\n      \"properties\": {\n        \"dtype\": \"number\",\n        \"std\": null,\n        \"min\": 0.8863626841987042,\n        \"max\": 0.8863626841987042,\n        \"num_unique_values\": 1,\n        \"samples\": [\n          0.8863626841987042\n        ],\n        \"semantic_type\": \"\",\n        \"description\": \"\"\n      }\n    },\n    {\n      \"column\": \"MAPE\",\n      \"properties\": {\n        \"dtype\": \"number\",\n        \"std\": null,\n        \"min\": 7.766108880158526,\n        \"max\": 7.766108880158526,\n        \"num_unique_values\": 1,\n        \"samples\": [\n          7.766108880158526\n        ],\n        \"semantic_type\": \"\",\n        \"description\": \"\"\n      }\n    }\n  ]\n}"
            }
          },
          "metadata": {}
        }
      ]
    },
    {
      "cell_type": "code",
      "source": [
        "# Cálculo de residuos\n",
        "residuos = y_test - y_pred\n",
        "\n",
        "os.makedirs(\"figuras\", exist_ok=True)\n",
        "\n",
        "# Histograma de residuos\n",
        "plt.figure(figsize=(6, 4))\n",
        "sns.histplot(residuos, kde=True, color=\"indianred\")\n",
        "plt.title(\"Distribución de residuos - LinearRegression\")\n",
        "plt.xlabel(\"Error de predicción\")\n",
        "plt.tight_layout()\n",
        "plt.savefig(\"figuras/residuos_linearregression.png\")\n",
        "plt.show()\n",
        "# Q-Q Plot para evaluar normalidad\n",
        "plt.figure(figsize=(6, 4))\n",
        "stats.probplot(residuos, dist=\"norm\", plot=plt)\n",
        "plt.title(\"Q-Q Plot - LinearRegression\")\n",
        "plt.tight_layout()\n",
        "plt.savefig(\"figuras/qqplot_linearregression.png\")\n",
        "plt.show()\n",
        "\n",
        "# Prueba de normalidad de Shapiro-Wilk\n",
        "stat_sw, p_sw = stats.shapiro(residuos)\n",
        "print(f\"Shapiro-Wilk: estadístico = {stat_sw:.4f}, p-valor = {p_sw:.4f}\")\n",
        "\n",
        "# Autocorrelación de residuos con Durbin-Watson\n",
        "dw = durbin_watson(residuos)\n",
        "print(f\"Durbin-Watson: {dw:.4f}\")\n"
      ],
      "metadata": {
        "colab": {
          "base_uri": "https://localhost:8080/",
          "height": 832
        },
        "id": "EpgWRGN-9hE7",
        "outputId": "22757ea8-58d7-4f31-88ce-95fd3b8c0924"
      },
      "execution_count": 200,
      "outputs": [
        {
          "output_type": "display_data",
          "data": {
            "text/plain": [
              "<Figure size 600x400 with 1 Axes>"
            ],
            "image/png": "[encoded data removed]"
          },
          "metadata": {}
        },
        {
          "output_type": "display_data",
          "data": {
            "text/plain": [
              "<Figure size 600x400 with 1 Axes>"
            ],
            "image/png": "[encoded data removed]"
          },
          "metadata": {}
        },
        {
          "output_type": "stream",
          "name": "stdout",
          "text": [
            "Shapiro-Wilk: estadístico = 0.5489, p-valor = 0.0000\n",
            "Durbin-Watson: 1.9829\n"
          ]
        }
      ]
    },
    {
      "cell_type": "code",
      "source": [
        "\n",
        "\n",
        "# Asegurarse de que la carpeta 'figuras' exista\n",
        "os.makedirs(\"figuras\", exist_ok=True)\n",
        "\n",
        "# Calcular curva de aprendizaje\n",
        "train_sizes, train_scores, test_scores = learning_curve(\n",
        "    estimator=modelo_lr,\n",
        "    X=X_train_scaled,\n",
        "    y=y_train_log,\n",
        "    cv=cv,\n",
        "    scoring='neg_mean_squared_error',\n",
        "    train_sizes=np.linspace(0.1, 1.0, 10),\n",
        "    random_state=42\n",
        ")\n",
        "\n",
        "# Calcular medias y desviaciones estándar\n",
        "train_scores_mean = -np.mean(train_scores, axis=1)\n",
        "train_scores_std = np.std(train_scores, axis=1)\n",
        "test_scores_mean = -np.mean(test_scores, axis=1)\n",
        "test_scores_std = np.std(test_scores, axis=1)\n",
        "\n",
        "# Graficar curva de aprendizaje\n",
        "plt.figure(figsize=(8, 5))\n",
        "plt.plot(train_sizes, train_scores_mean, label=\"Entrenamiento\", marker='o')\n",
        "plt.fill_between(train_sizes, train_scores_mean - train_scores_std, train_scores_mean + train_scores_std, alpha=0.2)\n",
        "plt.plot(train_sizes, test_scores_mean, label=\"Validación\", marker='o')\n",
        "plt.fill_between(train_sizes, test_scores_mean - test_scores_std, test_scores_mean + test_scores_std, alpha=0.2)\n",
        "plt.title(\"Curva de Aprendizaje - LinearRegression\")\n",
        "plt.xlabel(\"Tamaño del conjunto de entrenamiento\")\n",
        "plt.ylabel(\"MSE (negativo)\")\n",
        "plt.legend()\n",
        "plt.grid(True)\n",
        "plt.tight_layout()\n",
        "plt.savefig(\"figuras/curva_aprendizaje_linearregression.png\")\n",
        "plt.show()\n"
      ],
      "metadata": {
        "colab": {
          "base_uri": "https://localhost:8080/",
          "height": 507
        },
        "id": "YDUrF6ZZ-Xrv",
        "outputId": "8b46e25b-dec2-4400-9c22-607e1b472886"
      },
      "execution_count": 201,
      "outputs": [
        {
          "output_type": "display_data",
          "data": {
            "text/plain": [
              "<Figure size 800x500 with 1 Axes>"
            ],
            "image/png": "[encoded data removed]"
          },
          "metadata": {}
        }
      ]
    },
    {
      "cell_type": "code",
      "source": [
        "\n",
        "\n"
      ],
      "metadata": {
        "id": "dKmdeJIghMth"
      },
      "execution_count": 201,
      "outputs": []
    },
    {
      "cell_type": "code",
      "source": [
        "# Recuperar nombres de variables si no tienes X_train original\n",
        "# Cargar nombres de las columnas desde archivo\n",
        "columnas = joblib.load(\"data/nombres_columnas.pkl\")\n",
        "\n",
        "\n",
        "\n",
        "# Añadir constante\n",
        "X_vif = add_constant(X_train_scaled)\n",
        "\n",
        "# Calcular VIF\n",
        "vif = pd.DataFrame()\n",
        "vif[\"Variable\"] = [\"Intercepto\"] + list(columnas)\n",
        "vif[\"VIF\"] = [variance_inflation_factor(X_vif, i) for i in range(X_vif.shape[1])]\n",
        "\n",
        "# Mostrar y exportar\n",
        "display(vif)\n",
        "vif.to_csv(\"data/vif_linearregression.csv\", index=False)\n",
        "\n"
      ],
      "metadata": {
        "colab": {
          "base_uri": "https://localhost:8080/",
          "height": 332
        },
        "id": "7rLXdMVT-uT-",
        "outputId": "64711b42-eca9-4d0f-a39e-a421a240a8bb"
      },
      "execution_count": 202,
      "outputs": [
        {
          "output_type": "error",
          "ename": "FileNotFoundError",
          "evalue": "[Errno 2] No such file or directory: 'data/nombres_columnas.pkl'",
          "traceback": [
            "\u001b[0;31m---------------------------------------------------------------------------\u001b[0m",
            "\u001b[0;31mFileNotFoundError\u001b[0m                         Traceback (most recent call last)",
            "\u001b[0;32m<ipython-input-202-fc3c23a869a4>\u001b[0m in \u001b[0;36m<cell line: 0>\u001b[0;34m()\u001b[0m\n\u001b[1;32m      1\u001b[0m \u001b[0;31m# Recuperar nombres de variables si no tienes X_train original\u001b[0m\u001b[0;34m\u001b[0m\u001b[0;34m\u001b[0m\u001b[0m\n\u001b[1;32m      2\u001b[0m \u001b[0;31m# Cargar nombres de las columnas desde archivo\u001b[0m\u001b[0;34m\u001b[0m\u001b[0;34m\u001b[0m\u001b[0m\n\u001b[0;32m----> 3\u001b[0;31m \u001b[0mcolumnas\u001b[0m \u001b[0;34m=\u001b[0m \u001b[0mjoblib\u001b[0m\u001b[0;34m.\u001b[0m\u001b[0mload\u001b[0m\u001b[0;34m(\u001b[0m\u001b[0;34m\"data/nombres_columnas.pkl\"\u001b[0m\u001b[0;34m)\u001b[0m\u001b[0;34m\u001b[0m\u001b[0;34m\u001b[0m\u001b[0m\n\u001b[0m\u001b[1;32m      4\u001b[0m \u001b[0;34m\u001b[0m\u001b[0m\n\u001b[1;32m      5\u001b[0m \u001b[0;34m\u001b[0m\u001b[0m\n",
            "\u001b[0;32m/usr/local/lib/python3.11/dist-packages/joblib/numpy_pickle.py\u001b[0m in \u001b[0;36mload\u001b[0;34m(filename, mmap_mode, ensure_native_byte_order)\u001b[0m\n\u001b[1;32m    733\u001b[0m             \u001b[0mobj\u001b[0m \u001b[0;34m=\u001b[0m \u001b[0m_unpickle\u001b[0m\u001b[0;34m(\u001b[0m\u001b[0mfobj\u001b[0m\u001b[0;34m,\u001b[0m \u001b[0mensure_native_byte_order\u001b[0m\u001b[0;34m=\u001b[0m\u001b[0mensure_native_byte_order\u001b[0m\u001b[0;34m)\u001b[0m\u001b[0;34m\u001b[0m\u001b[0;34m\u001b[0m\u001b[0m\n\u001b[1;32m    734\u001b[0m     \u001b[0;32melse\u001b[0m\u001b[0;34m:\u001b[0m\u001b[0;34m\u001b[0m\u001b[0;34m\u001b[0m\u001b[0m\n\u001b[0;32m--> 735\u001b[0;31m         \u001b[0;32mwith\u001b[0m \u001b[0mopen\u001b[0m\u001b[0;34m(\u001b[0m\u001b[0mfilename\u001b[0m\u001b[0;34m,\u001b[0m \u001b[0;34m\"rb\"\u001b[0m\u001b[0;34m)\u001b[0m \u001b[0;32mas\u001b[0m \u001b[0mf\u001b[0m\u001b[0;34m:\u001b[0m\u001b[0;34m\u001b[0m\u001b[0;34m\u001b[0m\u001b[0m\n\u001b[0m\u001b[1;32m    736\u001b[0m             with _validate_fileobject_and_memmap(f, filename, mmap_mode) as (\n\u001b[1;32m    737\u001b[0m                 \u001b[0mfobj\u001b[0m\u001b[0;34m,\u001b[0m\u001b[0;34m\u001b[0m\u001b[0;34m\u001b[0m\u001b[0m\n",
            "\u001b[0;31mFileNotFoundError\u001b[0m: [Errno 2] No such file or directory: 'data/nombres_columnas.pkl'"
          ]
        }
      ]
    },
    {
      "cell_type": "code",
      "source": [
        "# Crear DataFrame de coeficientes desde el modelo\n",
        "df_coeficientes = pd.DataFrame({\n",
        "    \"Variable\": columnas,\n",
        "    \"Coeficiente\": modelo_lr.coef_\n",
        "})\n"
      ],
      "metadata": {
        "id": "U6MRygqOZ-pD"
      },
      "execution_count": null,
      "outputs": []
    },
    {
      "cell_type": "code",
      "source": [
        "# Añadir magnitud del coeficiente\n",
        "df_coeficientes[\"Importancia\"] = df_coeficientes[\"Coeficiente\"].abs()\n",
        "\n",
        "# Seleccionar los 20 más influyentes sin importar signo\n",
        "top20_magnitud = df_coeficientes.sort_values(by=\"Importancia\", ascending=False).head(20)\n",
        "\n",
        "# Graficar\n",
        "plt.figure(figsize=(10, 6))\n",
        "sns.barplot(data=top20_magnitud, x=\"Coeficiente\", y=\"Variable\", palette=\"coolwarm\")\n",
        "plt.title(\"Top 20 coeficientes más importantes - LinearRegression\")\n",
        "plt.xlabel(\"Coeficiente\")\n",
        "plt.ylabel(\"Variable\")\n",
        "plt.tight_layout()\n",
        "plt.savefig(\"figuras/top20_coeficientes_linearregression.png\")\n",
        "plt.show()\n"
      ],
      "metadata": {
        "id": "S5hKhl1YAG4K"
      },
      "execution_count": null,
      "outputs": []
    },
    {
      "cell_type": "code",
      "source": [
        "# Seleccionar los 10 más positivos y 10 más negativos\n",
        "top10_pos = df_coeficientes.sort_values(by=\"Coeficiente\", ascending=False).head(10)\n",
        "top10_neg = df_coeficientes.sort_values(by=\"Coeficiente\", ascending=True).head(10)\n",
        "\n",
        "# Concatenar ambos para un gráfico conjunto\n",
        "top_coef_signo = pd.concat([top10_pos, top10_neg])\n",
        "\n",
        "# Graficar\n",
        "plt.figure(figsize=(10, 6))\n",
        "sns.barplot(data=top_coef_signo, x=\"Coeficiente\", y=\"Variable\", palette=\"Spectral\")\n",
        "plt.title(\"Top 10 coeficientes positivos y negativos - LinearRegression\")\n",
        "plt.xlabel(\"Coeficiente\")\n",
        "plt.ylabel(\"Variable\")\n",
        "plt.tight_layout()\n",
        "plt.savefig(\"figuras/top_coef_positivos_negativos_linearregression.png\")\n",
        "plt.show()\n"
      ],
      "metadata": {
        "id": "iN8-ddhYAyQl"
      },
      "execution_count": null,
      "outputs": []
    },
    {
      "cell_type": "markdown",
      "metadata": {
        "id": "umUjuhgH901Q"
      },
      "source": [
        "## Modelo 2: Lasso Regression (Regresión con penalización L1)\n",
        "\n",
        "La regresión Lasso (Least Absolute Shrinkage and Selection Operator) es un modelo lineal con regularización L1, que no solo penaliza la magnitud de los coeficientes sino que **induce una selección automática de variables**. A diferencia de la regresión lineal tradicional, Lasso tiende a reducir algunos coeficientes exactamente a cero, lo cual lo convierte en una herramienta útil tanto para **predicción como para reducción de dimensionalidad**.\n",
        "\n",
        "### Justificación metodológica\n",
        "\n",
        "En este estudio, se aplicó un enfoque riguroso de doble optimización para el hiperparámetro `alpha`, que controla la intensidad de la regularización:\n",
        "\n",
        "1. **Primero**, se utilizó `LassoCV` con validación cruzada de 5 folds para estimar un valor óptimo inicial de `alpha`.\n",
        "2. **Luego**, se usó `GridSearchCV` en un rango ajustado alrededor de ese `alpha` para refinar la búsqueda y garantizar una mejor generalización del modelo.\n",
        "\n",
        "Este enfoque refleja un compromiso con la validación robusta y evita depender de valores arbitrarios por defecto (como `alpha=1`), lo cual sería metodológicamente inapropiado.\n",
        "\n",
        "### Evaluación\n",
        "\n",
        "Una vez ajustado, el modelo fue evaluado con validación cruzada de 5 folds utilizando las siguientes métricas:\n",
        "\n",
        "- **MAE** (Error Absoluto Medio)\n",
        "- **MSE** (Error Cuadrático Medio)\n",
        "- **R²** (Coeficiente de determinación)\n",
        "- **MAPE** (Error Porcentual Absoluto Medio)\n",
        "\n",
        "Además, se realizó:\n",
        "\n",
        "- Análisis de residuos (histograma, Shapiro-Wilk, residuos vs predicción).\n",
        "- Prueba de autocorrelación (Durbin-Watson).\n",
        "- Cálculo del VIF para verificar multicolinealidad.\n",
        "- Curva de aprendizaje para evaluar el sesgo y la varianza del modelo.\n",
        "- Visualización de las **10 variables más influyentes** (coeficientes no nulos más significativos).\n",
        "\n",
        "> Este modelo representa un equilibrio entre interpretabilidad, capacidad predictiva y parsimonia, siendo especialmente útil cuando se trabaja con un conjunto amplio de variables explicativas.\n",
        "\n",
        "\n"
      ]
    },
    {
      "cell_type": "code",
      "execution_count": null,
      "metadata": {
        "id": "QuwXLvVgSHAt"
      },
      "outputs": [],
      "source": [
        "\n",
        "# ===  SELECCIÓN INICIAL DE ALPHA CON LassoCV ===\n",
        "# Se utiliza LassoCV con más iteraciones para garantizar convergencia\n",
        "lasso_cv = LassoCV(\n",
        "    cv=5,\n",
        "    max_iter=10000,\n",
        "    random_state=42,\n",
        "    n_jobs=-1\n",
        ")\n",
        "\n",
        "# Ajuste sobre el conjunto de entrenamiento escalado\n",
        "lasso_cv.fit(X_train_scaled, y_train)\n",
        "\n",
        "# Alpha óptimo encontrado automáticamente\n",
        "alpha_optimo = lasso_cv.alpha_\n",
        "print(f\"Alpha óptimo encontrado por LassoCV: {alpha_optimo:.5f}\")\n",
        "\n",
        "# ===  BÚSQUEDA REFINADA CON GridSearchCV ===\n",
        "# Se genera un rango más fino de búsqueda alrededor del alpha óptimo\n",
        "param_grid_lasso = {\n",
        "    \"alpha\": np.linspace(alpha_optimo * 0.5, alpha_optimo * 1.5, 10)\n",
        "}\n",
        "\n",
        "# Configuración de la búsqueda con más iteraciones para asegurar convergencia\n",
        "grid_lasso = GridSearchCV(\n",
        "    estimator=Lasso(max_iter=10000),  # ¡Robustez añadida aquí!\n",
        "    param_grid=param_grid_lasso,\n",
        "    cv=cv,\n",
        "    scoring='neg_mean_squared_error',\n",
        "    n_jobs=-1\n",
        ")\n",
        "\n",
        "# Entrenamiento con búsqueda en rejilla\n",
        "grid_lasso.fit(X_train_scaled, y_train)\n",
        "\n",
        "# Mostrar el mejor alpha encontrado por GridSearchCV\n",
        "mejor_alpha = grid_lasso.best_params_['alpha']\n",
        "print(f\"Mejor alpha encontrado por GridSearchCV: {mejor_alpha:.5f}\")\n",
        "\n",
        "# ===  MODELO FINAL SELECCIONADO ===\n",
        "modelo_lasso = grid_lasso.best_estimator_\n",
        "\n"
      ]
    },
    {
      "cell_type": "markdown",
      "metadata": {
        "id": "vD893Uy0VAbi"
      },
      "source": [
        "### Selección del hiperparámetro `alpha`\n",
        "\n",
        "Para determinar el valor óptimo de `alpha` en el modelo Lasso, se aplicó una estrategia en dos etapas:\n",
        "\n",
        "- **Primero**, se utilizó `LassoCV` con validación cruzada de 5 folds, obteniendo un valor óptimo de:\n",
        "\n",
        "  >  `alpha = 107.16597`\n",
        "\n",
        "- **Luego**, se refinó con `GridSearchCV` en un rango centrado alrededor de ese valor, asegurando una selección más precisa y validada.\n",
        "   >  `alpha = 125.02697`\n",
        "\n",
        "Este proceso garantiza que el modelo esté regularizado de forma óptima, evitando tanto el sobreajuste como la infra-penalización, y cumpliendo con los requisitos metodológicos del análisis.\n"
      ]
    },
    {
      "cell_type": "code",
      "execution_count": null,
      "metadata": {
        "id": "-x7FBquZSPvI"
      },
      "outputs": [],
      "source": [
        "# ===  EVALUACIÓN FINAL CON FUNCIÓN PERSONALIZADA ===\n",
        "df_lasso = evaluar_modelo_cv(\n",
        "    nombre_modelo=\"Lasso\",\n",
        "    modelo=modelo_lasso,\n",
        "    X=X_train_scaled,\n",
        "    y=y_train,\n",
        "    cv=cv,\n",
        "    scoring=scoring,\n",
        "    guardar_en=\"data/resultados_lasso.csv\"\n",
        ")\n",
        "\n",
        "df_lasso\n"
      ]
    },
    {
      "cell_type": "markdown",
      "metadata": {
        "id": "ZJzQiv6IV6dN"
      },
      "source": [
        "### Desempeño del modelo Lasso\n",
        "\n",
        "El modelo Lasso obtuvo un desempeño consistente en los 5 folds, con un **MAE promedio cercano a 16.800**, un **R² promedio de ~0.89**, y un **MAPE alrededor del 10%**, lo que indica una buena capacidad explicativa y errores relativos razonables para predicción de precios.\n",
        "\n",
        "Estos resultados muestran que el modelo es **estable y generaliza bien**, sirviendo como una base para comparar con modelos más complejos.\n"
      ]
    },
    {
      "cell_type": "code",
      "execution_count": null,
      "metadata": {
        "id": "7ulQ3U0iST2N"
      },
      "outputs": [],
      "source": [
        "# ===  ANÁLISIS DE COEFICIENTES ===\n",
        "modelo_lasso.fit(X_train_scaled, y_train)  # Asegurar ajuste final\n",
        "coeficientes_lasso = modelo_lasso.coef_\n",
        "\n",
        "df_coef_lasso = pd.DataFrame({\n",
        "    \"Variable\": columnas_X,\n",
        "    \"Coeficiente\": coeficientes_lasso\n",
        "})\n",
        "df_coef_lasso = df_coef_lasso[df_coef_lasso[\"Coeficiente\"] != 0].sort_values(\n",
        "    by=\"Coeficiente\", key=abs, ascending=False\n",
        ")\n",
        "\n",
        "print(f\"Variables seleccionadas por Lasso: {len(df_coef_lasso)}\")\n",
        "df_coef_lasso.to_csv(\"data/coeficientes_lasso.csv\", index=False)\n",
        "df_coef_lasso.head(10)\n",
        "\n",
        "\n"
      ]
    },
    {
      "cell_type": "code",
      "execution_count": null,
      "metadata": {
        "id": "5cl7UE8HZoY_"
      },
      "outputs": [],
      "source": [
        "total_vars = len(columnas_X)\n",
        "usadas = len(df_coef_lasso)\n",
        "print(f\"Reducción de dimensionalidad: {usadas} de {total_vars} variables ({(usadas/total_vars)*100:.2f}%)\")\n"
      ]
    },
    {
      "cell_type": "markdown",
      "metadata": {
        "id": "CWCaoTXDWJwf"
      },
      "source": [
        "### Variables seleccionadas por Lasso\n",
        "\n",
        "El modelo Lasso seleccionó 103 variables con coeficientes distintos de cero, lo que confirma su capacidad para realizar **selección automática de características**.\n",
        "\n",
        "Entre las 10 variables más influyentes se destacan:\n",
        "\n",
        "- **Positivas:** barrios de alto valor como `Neighborhood_NoRidge` y `StoneBr`, y variables estructurales como `1st Flr SF` y `2nd Flr SF`, que aumentan el precio.\n",
        "- **Negativas:** calidades medias o bajas en la cocina y el sótano (`Kitchen_Qual_TA`, `Kitchen_Qual_Fa`, `Bsmt_Qual_Gd`) que están asociadas con una reducción del valor.\n",
        "\n",
        "Esto permite interpretar no solo **qué variables predicen el precio**, sino también **cómo lo hacen** (efecto positivo o negativo), lo que aporta valor explicativo al modelo.\n"
      ]
    },
    {
      "cell_type": "code",
      "execution_count": null,
      "metadata": {
        "id": "-aYcp_FzSXga"
      },
      "outputs": [],
      "source": [
        "# ===  GRÁFICO DE TOP 10 VARIABLES - MEJORADO ===\n",
        "\n",
        "# Crear copia y calcular valor absoluto del coeficiente\n",
        "top_lasso = df_coef_lasso.copy()\n",
        "top_lasso[\"abs_coef\"] = top_lasso[\"Coeficiente\"].abs()\n",
        "\n",
        "# Ordenar por magnitud y seleccionar top 10\n",
        "top_lasso = top_lasso.sort_values(by=\"abs_coef\", ascending=False).head(10)\n",
        "\n",
        "# Invertir orden para mejor visualización (más influyente arriba)\n",
        "top_lasso = top_lasso[::-1].reset_index(drop=True)\n",
        "\n",
        "# === Crear gráfico ===\n",
        "plt.figure(figsize=(10, 6))\n",
        "sns.barplot(data=top_lasso, y=\"Variable\", x=\"Coeficiente\", palette=\"viridis\")\n",
        "\n",
        "# Línea en x = 0 para separar efectos positivos/negativos\n",
        "plt.axvline(0, color='gray', linestyle='--', linewidth=1)\n",
        "\n",
        "# Anotar valor del coeficiente en cada barra\n",
        "for i, coef in enumerate(top_lasso[\"Coeficiente\"]):\n",
        "    plt.text(coef, i, f\"{coef:.0f}\", va='center',\n",
        "             ha='left' if coef > 0 else 'right',\n",
        "             color='black', fontsize=9)\n",
        "\n",
        "# Títulos y estilo\n",
        "plt.title(\"Top 10 variables más influyentes - Modelo Lasso\")\n",
        "plt.xlabel(\"Coeficiente\")\n",
        "plt.ylabel(\"Variable\")\n",
        "plt.tight_layout()\n",
        "\n",
        "# Guardar figura\n",
        "plt.savefig(\"data/top_10_variables_lasso.png\", dpi=300)\n",
        "plt.show()\n"
      ]
    },
    {
      "cell_type": "markdown",
      "metadata": {
        "id": "_W3boUK0WalV"
      },
      "source": [
        "### Interpretación del gráfico de coeficientes\n",
        "\n",
        "El gráfico muestra las 10 variables más influyentes seleccionadas por el modelo Lasso, ordenadas por la magnitud absoluta de sus coeficientes.\n",
        "\n",
        "- Las variables con **coeficiente positivo** (como `Neighborhood_NoRidge`, `StoneBr`, `1st Flr SF`) están asociadas a un **incremento en el precio** de la vivienda.\n",
        "- Las variables con **coeficiente negativo** (como `Kitchen Qual_TA`, `Bsmt Qual_Gd`, `Kitchen Qual_Fa`) tienden a **reducir el valor**, lo cual tiene sentido si representan condiciones de menor calidad.\n",
        "\n",
        "Este tipo de visualización refuerza la interpretabilidad del modelo, ayudando a identificar los factores clave que explican el valor de las propiedades dentro del conjunto de datos Ames Housing.\n"
      ]
    },
    {
      "cell_type": "code",
      "execution_count": null,
      "metadata": {
        "id": "6sClXZapSdcu"
      },
      "outputs": [],
      "source": [
        "# ===  RESIDUOS Y NORMALIDAD ===\n",
        "\n",
        "y_pred_lasso = cross_val_predict(modelo_lasso, X_train_scaled, y_train, cv=cv)\n",
        "residuos_lasso = y_train - y_pred_lasso\n",
        "\n",
        "# Guardar residuos\n",
        "pd.DataFrame({\"y_real\": y_train, \"y_pred\": y_pred_lasso, \"residuo\": residuos_lasso}).to_csv(\"data/residuos_lasso.csv\", index=False)\n",
        "\n",
        "# Histograma\n",
        "plt.figure(figsize=(8, 5))\n",
        "sns.histplot(residuos_lasso, kde=True, color=\"steelblue\", bins=40)\n",
        "plt.title(\"Distribución de residuos - Lasso\")\n",
        "plt.xlabel(\"Error (y_real - y_predicho)\")\n",
        "plt.tight_layout()\n",
        "plt.savefig(\"data/residuos_distribucion_lasso.png\", dpi=300)\n",
        "plt.show()\n",
        "\n",
        "# Shapiro-Wilk\n",
        "stat, p = shapiro(residuos_lasso)\n",
        "print(f\"Shapiro-Wilk test: estadístico = {stat:.3f}, p = {p:.4f}\")\n",
        "print(\"Normalidad de residuos:\", \"No se rechaza H0\" if p > 0.05 else \"Se rechaza (no normal)\")\n"
      ]
    },
    {
      "cell_type": "markdown",
      "metadata": {
        "id": "ALv5vunWW3Q9"
      },
      "source": [
        "### Análisis de normalidad de residuos\n",
        "\n",
        "Aunque el histograma de residuos del modelo Lasso muestra una forma simétrica y concentrada alrededor de cero, el **test de Shapiro-Wilk** arroja un valor p = 0.0000, lo cual indica que:\n",
        "\n",
        "> **Se rechaza la hipótesis nula de normalidad (p < 0.05)**\n",
        "\n",
        "Esto significa que los residuos **no se distribuyen de forma normal**, a pesar de su apariencia visual. Esta desviación de la normalidad puede deberse a colas pesadas o asimetrías sutiles en los errores.\n",
        "\n",
        "En contextos prácticos como el análisis de precios inmobiliarios, una leve no normalidad no invalida el modelo, especialmente si el resto de los supuestos (homocedasticidad, independencia de errores) se cumplen y la capacidad predictiva es buena.\n",
        "\n",
        "> Conclusión: Aunque no se cumple el supuesto de normalidad estricta, el modelo sigue siendo válido para predicción. Sin embargo, este resultado se debe tener en cuenta si se aplican inferencias estadísticas sensibles a la normalidad de errores.\n"
      ]
    },
    {
      "cell_type": "code",
      "execution_count": null,
      "metadata": {
        "id": "UvrtQuW3ShEJ"
      },
      "outputs": [],
      "source": [
        "# ===  HOMOCEDASTICIDAD Y DURBIN-WATSON ===\n",
        "\n",
        "\n",
        "plt.figure(figsize=(8, 5))\n",
        "sns.scatterplot(x=y_pred_lasso, y=residuos_lasso, alpha=0.5)\n",
        "plt.axhline(0, color=\"red\", linestyle=\"--\")\n",
        "plt.title(\"Residuos vs Predicción - Lasso\")\n",
        "plt.xlabel(\"Predicción\")\n",
        "plt.ylabel(\"Residuos\")\n",
        "plt.tight_layout()\n",
        "plt.savefig(\"data/residuos_vs_prediccion_lasso.png\", dpi=300)\n",
        "plt.show()\n",
        "\n",
        "dw_lasso = durbin_watson(residuos_lasso)\n",
        "print(f\"Estadístico de Durbin-Watson (Lasso): {dw_lasso:.3f}\")\n"
      ]
    },
    {
      "cell_type": "markdown",
      "metadata": {
        "id": "0ZX7zQitXazK"
      },
      "source": [
        "### Evaluación de linealidad, homocedasticidad e independencia de residuos\n",
        "\n",
        "El gráfico de dispersión de residuos vs predicciones permite verificar dos supuestos esenciales:\n",
        "\n",
        "1. **Linealidad:**  \n",
        "   La nube de puntos aparece dispersa de manera aleatoria alrededor de la línea horizontal roja en cero. Esto sugiere que la relación entre las variables explicativas y la variable objetivo está bien capturada por una función lineal. No se observan patrones sistemáticos (curvas o tendencias), lo cual **confirma el supuesto de linealidad**.\n",
        "\n",
        "2. **Homocedasticidad (varianza constante):**  \n",
        "   Aunque hay cierta dispersión creciente en valores altos de predicción, no es excesiva ni estructurada. En general, los residuos mantienen una varianza aceptablemente constante en todo el rango de predicción, por lo que **no se evidencia heterocedasticidad grave**.\n",
        "\n",
        "3. **Independencia de errores (Durbin-Watson):**  \n",
        "   El estadístico de Durbin-Watson fue de **2.004**, muy cercano al valor ideal de 2. Esto indica que **no hay autocorrelación entre los errores**, lo cual refuerza la validez del modelo en términos de independencia de observaciones.\n",
        "\n",
        "> En conjunto, estos resultados respaldan la solidez del modelo ajustado y la confiabilidad de sus predicciones dentro del conjunto de entrenamiento.\n"
      ]
    },
    {
      "cell_type": "code",
      "execution_count": null,
      "metadata": {
        "id": "oBUYF49DSlf_"
      },
      "outputs": [],
      "source": [
        "# ===  MULTICOLINEALIDAD (VIF) ===\n",
        "\n",
        "# Calcular VIF solo para variables seleccionadas por Lasso\n",
        "X_vif_lasso_reducido = pd.DataFrame(X_train_scaled, columns=columnas_X)[df_coef_lasso[\"Variable\"]]\n",
        "\n",
        "# Añadir constante\n",
        "X_vif_lasso_reducido = add_constant(X_vif_lasso_reducido)\n",
        "\n",
        "vif_lasso_reducido = pd.DataFrame()\n",
        "vif_lasso_reducido[\"Variable\"] = X_vif_lasso_reducido.columns\n",
        "vif_lasso_reducido[\"VIF\"] = [\n",
        "    variance_inflation_factor(X_vif_lasso_reducido.values, i)\n",
        "    for i in range(X_vif_lasso_reducido.shape[1])\n",
        "]\n",
        "\n",
        "# Eliminar constante\n",
        "vif_lasso_reducido = vif_lasso_reducido[vif_lasso_reducido[\"Variable\"] != \"const\"].reset_index(drop=True)\n",
        "\n",
        "# Guardar\n",
        "vif_lasso_reducido.to_csv(\"data/vif_lasso_reducido.csv\", index=False)\n",
        "\n",
        "print(\"Top 10 VIF en variables seleccionadas por Lasso:\")\n",
        "display(vif_lasso_reducido.sort_values(by=\"VIF\", ascending=False).head(10))\n",
        "\n"
      ]
    },
    {
      "cell_type": "markdown",
      "metadata": {
        "id": "MBQ4FhI8XqBB"
      },
      "source": [
        "### Análisis de Multicolinealidad en variables seleccionadas por Lasso\n",
        "\n",
        "Aunque el modelo `Lasso` tiende a reducir la multicolinealidad al penalizar y eliminar coeficientes poco significativos, el análisis del **Factor de Inflación de la Varianza (VIF)** aplicado exclusivamente sobre las variables retenidas revela que aún persisten altos niveles de redundancia en algunas de ellas.\n",
        "\n",
        "Las 10 variables más colineales presentan valores de VIF considerablemente elevados, con máximos de hasta **39.88** en `BsmtFin SF 1`, y otros valores por encima de 30 para `Sale Condition_Partial` y `Sale Type_New`. Estos niveles de colinealidad pueden indicar que algunas variables explicativas comparten información redundante, lo cual puede afectar la estabilidad de los coeficientes incluso dentro del marco penalizado de Lasso.\n",
        "\n",
        "No obstante, dado que estas variables han sido seleccionadas activamente por el modelo, se asume que su contribución predictiva supera su colinealidad relativa. Aun así, sería recomendable considerar una posible agrupación, transformación o reducción adicional (por ejemplo, PCA o clustering de variables) en futuras iteraciones si se desea mejorar la interpretación o robustez del modelo.\n",
        "\n",
        "En general, Lasso ha logrado una importante reducción de dimensionalidad, pero no elimina completamente la colinealidad estructural entre variables altamente correlacionadas a nivel semántico o funcional.\n"
      ]
    },
    {
      "cell_type": "code",
      "execution_count": null,
      "metadata": {
        "id": "zq4aE2I9SoT5"
      },
      "outputs": [],
      "source": [
        "# === CURVA DE APRENDIZAJE ===\n",
        "\n",
        "\n",
        "train_sizes = np.linspace(0.1, 1.0, 10)\n",
        "\n",
        "train_sizes, train_scores, test_scores = learning_curve(\n",
        "    estimator=modelo_lasso,\n",
        "    X=X_train_scaled,\n",
        "    y=y_train,\n",
        "    train_sizes=train_sizes,\n",
        "    cv=cv,\n",
        "    scoring='neg_mean_squared_error',\n",
        "    n_jobs=-1\n",
        ")\n",
        "\n",
        "train_errors = -np.mean(train_scores, axis=1)\n",
        "test_errors = -np.mean(test_scores, axis=1)\n",
        "test_std = np.std(test_scores, axis=1)\n",
        "\n",
        "df_lc_lasso = pd.DataFrame({\n",
        "    \"Tamaño entrenamiento\": train_sizes,\n",
        "    \"MSE Entrenamiento\": train_errors,\n",
        "    \"MSE Validación\": test_errors,\n",
        "    \"STD Validación\": test_std\n",
        "})\n",
        "df_lc_lasso.to_csv(\"data/learning_curve_lasso.csv\", index=False)\n",
        "\n",
        "plt.figure(figsize=(10, 6))\n",
        "plt.plot(train_sizes, train_errors, label=\"Error de entrenamiento\", color=\"blue\")\n",
        "plt.plot(train_sizes, test_errors, label=\"Error de validación\", color=\"orange\")\n",
        "plt.fill_between(train_sizes, test_errors - test_std, test_errors + test_std, alpha=0.2, color=\"orange\")\n",
        "plt.title(\"Curva de Aprendizaje - Lasso Regression\")\n",
        "plt.xlabel(\"Tamaño del conjunto de entrenamiento\")\n",
        "plt.ylabel(\"Error cuadrático medio (MSE)\")\n",
        "plt.legend()\n",
        "plt.grid(True)\n",
        "plt.tight_layout()\n",
        "plt.savefig(\"data/learning_curve_lasso.png\", dpi=300)\n",
        "plt.show()\n"
      ]
    },
    {
      "cell_type": "markdown",
      "metadata": {
        "id": "zhLawo0tYC9D"
      },
      "source": [
        "### Curva de aprendizaje del modelo Lasso\n",
        "\n",
        "La curva de aprendizaje muestra cómo varía el **error cuadrático medio (MSE)** en entrenamiento y validación conforme crece el tamaño del conjunto de entrenamiento:\n",
        "\n",
        "- El **error de entrenamiento** aumenta progresivamente, como es de esperarse, ya que con más datos el modelo tiene menos oportunidad de sobreajustar.\n",
        "- El **error de validación** disminuye y se estabiliza, lo cual indica que el modelo **generaliza correctamente** y no está sobreajustando.\n",
        "\n",
        "La **brecha entre ambas curvas se mantiene moderada**, lo que sugiere un **modelo equilibrado**, con buena capacidad de aprendizaje y sin signos evidentes de alto sesgo ni alta varianza.\n",
        "\n",
        "> En conjunto, esta curva respalda la estabilidad y robustez del modelo Lasso para el conjunto de datos Ames Housing.\n"
      ]
    },
    {
      "cell_type": "code",
      "execution_count": null,
      "metadata": {
        "id": "mdFiF72mMoYU"
      },
      "outputs": [],
      "source": [
        "# === Reentrenamiento final del modelo Lasso ===\n",
        "modelo_lasso.fit(X_train_scaled, y_train)\n",
        "\n",
        "# === Predicción sobre el conjunto de test ===\n",
        "y_test_pred_lasso = modelo_lasso.predict(X_test_scaled)\n",
        "\n",
        "# === Cálculo de métricas ===\n",
        "\n",
        "mae_lasso = mean_absolute_error(y_test, y_test_pred_lasso)\n",
        "mse_lasso = mean_squared_error(y_test, y_test_pred_lasso)\n",
        "rmse_lasso = np.sqrt(mse_lasso)\n",
        "r2_lasso = r2_score(y_test, y_test_pred_lasso)\n",
        "mape_lasso = mean_absolute_percentage_error(y_test, y_test_pred_lasso) * 100\n",
        "\n",
        "# === Tiempo promedio de entrenamiento ===\n",
        "fit_time_lasso = grid_lasso.cv_results_['mean_fit_time'][grid_lasso.best_index_]\n",
        "\n",
        "# === Mostrar resultados ===\n",
        "print(\"Desempeño final del modelo Lasso (conjunto de test):\")\n",
        "print(f\"MAE   = {mae_lasso:,.2f}\")\n",
        "print(f\"MSE   = {mse_lasso:.2e}\")\n",
        "print(f\"RMSE  = {rmse_lasso:,.2f}\")\n",
        "print(f\"R²    = {r2_lasso:.4f}\")\n",
        "print(f\"MAPE  = {mape_lasso:.2f}%\")\n",
        "print(f\"Tiempo promedio de entrenamiento (fit_time): {fit_time_lasso:.4f} segundos\")\n"
      ]
    },
    {
      "cell_type": "markdown",
      "metadata": {
        "id": "TEzew-QLMyjG"
      },
      "source": [
        "### Evaluación final del modelo Lasso (conjunto de test)\n",
        "\n",
        "El modelo `Lasso`, reentrenado con el 100% del conjunto de entrenamiento, fue evaluado sobre el conjunto de test.\n",
        "\n",
        "El modelo presenta un rendimiento general sólido, con un poder explicativo del 88.7% y un error porcentual ligeramente superior al 9%. Su bajo tiempo de entrenamiento lo convierte en una opción altamente eficiente para escenarios de rápida ejecución.\n",
        "\n",
        "El **MAPE alcanzó un valor anómalo de 941.44%**, pese a que el resto de métricas reflejan un buen rendimiento. Este valor extremo se explica por la presencia de algunas predicciones **ligeramente negativas o muy alejadas de los precios reales bajos**, lo que **distorsiona el error relativo porcentual** (por dividir sobre valores pequeños de `y_test`).\n",
        "\n",
        "En lugar de omitir esta métrica, se reporta tal como se obtuvo, dejando constancia de su **poca fiabilidad en este caso particular**. Se recomienda **no utilizar el MAPE como criterio de comparación principal** para este modelo, privilegiando métricas absolutas como MAE y RMSE.\n",
        "\n",
        "En conjunto, `Lasso` logró un buen equilibrio entre simplicidad, velocidad y desempeño predictivo, siendo útil además para la selección automática de variables relevantes."
      ]
    },
    {
      "cell_type": "markdown",
      "metadata": {
        "id": "IQluuh5dh6Hy"
      },
      "source": [
        "## Modelo 3: ElasticNet (Regresión con regularización combinada L1 y L2)\n",
        "\n",
        "ElasticNet es un modelo lineal que combina las penalizaciones de Lasso (L1) y Ridge (L2), lo cual permite:\n",
        "- Seleccionar variables como Lasso,\n",
        "- Controlar la magnitud de los coeficientes como Ridge,\n",
        "- Y manejar de forma más robusta la multicolinealidad entre variables.\n",
        "\n",
        "### ¿Por qué usar ElasticNet?\n",
        "\n",
        "Este modelo es especialmente útil cuando existen muchas variables predictoras correlacionadas, como ocurre en el conjunto de datos Ames Housing tras la codificación dummificada. A diferencia de Lasso, que tiende a seleccionar una sola variable entre un grupo de correlacionadas, ElasticNet puede mantener varias de ellas activas con penalización moderada.\n",
        "\n",
        "### Enfoque metodológico\n",
        "\n",
        "Para garantizar un análisis riguroso y sin suposiciones arbitrarias, se llevará a cabo:\n",
        "\n",
        "1. **Optimización doble de hiperparámetros (`alpha` y `l1_ratio`)**:\n",
        "   - Estimación inicial mediante `ElasticNetCV` con validación cruzada de 5 folds.\n",
        "   - Refinamiento con `GridSearchCV` en un rango reducido centrado en los valores óptimos iniciales.\n",
        "\n",
        "2. **Evaluación del modelo final** con validación cruzada de 5 folds, usando las métricas exigidas:\n",
        "   - MAE (Error absoluto medio)\n",
        "   - MSE (Error cuadrático medio)\n",
        "   - R² (Coeficiente de determinación)\n",
        "   - MAPE (Error absoluto porcentual medio)\n",
        "\n",
        "3. **Análisis e interpretación del modelo**:\n",
        "   - Extracción y visualización de coeficientes no nulos.\n",
        "   - Análisis de residuos (distribución, normalidad, homocedasticidad).\n",
        "   - Verificación de independencia (Durbin-Watson) y multicolinealidad (VIF).\n",
        "   - Generación de la curva de aprendizaje para evaluar sesgo y varianza.\n",
        "\n",
        "> Este modelo se evaluará bajo los mismos criterios técnicos y éticos que los anteriores, garantizando comparabilidad, trazabilidad y justificación plena de cada decisión tomada.\n"
      ]
    },
    {
      "cell_type": "code",
      "execution_count": null,
      "metadata": {
        "id": "UI9VDG5xiESC"
      },
      "outputs": [],
      "source": [
        "\n",
        "# ===  BÚSQUEDA INICIAL CON ElasticNetCV ===\n",
        "# Se ajustan simultáneamente alpha y l1_ratio\n",
        "elastic_cv = ElasticNetCV(\n",
        "    l1_ratio=[0.1, 0.5, 0.7, 0.9, 0.95, 1.0],  # proporciones L1/L2\n",
        "    alphas=np.logspace(-2, 2, 50),             # rango amplio para alpha\n",
        "    cv=cv,\n",
        "    n_jobs=-1,\n",
        "    random_state=42\n",
        ")\n",
        "\n",
        "elastic_cv.fit(X_train_scaled, y_train)\n",
        "\n",
        "# Almacenar hiperparámetros óptimos\n",
        "alpha_opt = elastic_cv.alpha_\n",
        "l1_ratio_opt = elastic_cv.l1_ratio_\n",
        "\n",
        "print(f\"Alpha óptimo encontrado por ElasticNetCV: {alpha_opt:.5f}\")\n",
        "print(f\"L1_ratio óptimo encontrado por ElasticNetCV: {l1_ratio_opt:.2f}\")\n"
      ]
    },
    {
      "cell_type": "code",
      "execution_count": null,
      "metadata": {
        "id": "Em4gN2X7iQVY"
      },
      "outputs": [],
      "source": [
        "# ===  BÚSQUEDA REFINADA CON GridSearchCV ===\n",
        "param_grid_elastic = {\n",
        "    'alpha': np.linspace(alpha_opt * 0.5, alpha_opt * 1.5, 10),\n",
        "    'l1_ratio': np.linspace(max(0.1, l1_ratio_opt - 0.3), min(1.0, l1_ratio_opt + 0.3), 10)\n",
        "}\n",
        "\n",
        "grid_elastic = GridSearchCV(\n",
        "    estimator=ElasticNet(max_iter=10000, random_state=42),\n",
        "    param_grid=param_grid_elastic,\n",
        "    cv=cv,\n",
        "    scoring='neg_mean_squared_error',\n",
        "    n_jobs=-1\n",
        ")\n",
        "\n",
        "grid_elastic.fit(X_train_scaled, y_train)\n",
        "\n",
        "modelo_elastic = grid_elastic.best_estimator_\n",
        "\n",
        "print(\"Mejores hiperparámetros encontrados por GridSearchCV:\")\n",
        "print(f\"  alpha     : {grid_elastic.best_params_['alpha']:.5f}\")\n",
        "print(f\"  l1_ratio  : {grid_elastic.best_params_['l1_ratio']:.2f}\")\n",
        "\n",
        "# === Crear df_grid con resultados del GridSearchCV ===\n",
        "df_grid = pd.DataFrame(grid_elastic.cv_results_)\n",
        "df_grid[\"alpha\"] = df_grid[\"params\"].apply(lambda d: d[\"alpha\"])\n",
        "df_grid[\"l1_ratio\"] = df_grid[\"params\"].apply(lambda d: d[\"l1_ratio\"])\n",
        "df_grid[\"MSE\"] = -df_grid[\"mean_test_score\"]\n",
        "\n",
        "\n",
        "\n"
      ]
    },
    {
      "cell_type": "markdown",
      "metadata": {
        "id": "MUcrLoMxktQr"
      },
      "source": [
        "### Hiperparámetros óptimos seleccionados\n",
        "\n",
        "Se aplicó una estrategia de optimización en dos etapas para ajustar los hiperparámetros del modelo ElasticNet:\n",
        "\n",
        "- Con `ElasticNetCV`, se encontró un valor inicial de:\n",
        "  - `alpha = 0.01758`\n",
        "  - `l1_ratio = 0.70`\n",
        "\n",
        "- Posteriormente, `GridSearchCV` refinó estos valores, obteniendo:\n",
        "  - `alpha = 0.02636`\n",
        "  - `l1_ratio = 0.80`\n",
        "\n",
        "> Esta doble optimización garantiza una selección robusta y justificada, evitando suposiciones arbitrarias y maximizando el desempeño general del modelo.\n"
      ]
    },
    {
      "cell_type": "code",
      "execution_count": null,
      "metadata": {
        "id": "Tb-YBkS-nVbv"
      },
      "outputs": [],
      "source": [
        "# === Redondear para el gráfico sin alterar datos ===\n",
        "df_grid[\"alpha_round\"] = df_grid[\"alpha\"].round(4)\n",
        "df_grid[\"l1_ratio_round\"] = df_grid[\"l1_ratio\"].round(2)\n",
        "\n",
        "# === Crear tabla pivote para el mapa de calor ===\n",
        "pivot_table = df_grid.pivot(index=\"l1_ratio_round\", columns=\"alpha_round\", values=\"MSE\")\n",
        "\n",
        "# === Graficar mapa de calor ===\n",
        "plt.figure(figsize=(12, 6))\n",
        "sns.heatmap(\n",
        "    pivot_table,\n",
        "    annot=True,\n",
        "    fmt=\".2g\",\n",
        "    cmap=\"viridis\",\n",
        "    linewidths=0.3,\n",
        "    cbar_kws={'label': 'MSE'},\n",
        "    annot_kws={\"size\": 8}\n",
        ")\n",
        "plt.title(\"Sensibilidad del MSE a los hiperparámetros - ElasticNet\", fontsize=14)\n",
        "plt.xlabel(\"Alpha\", fontsize=12)\n",
        "plt.ylabel(\"L1 Ratio\", fontsize=12)\n",
        "plt.xticks(rotation=45)\n",
        "plt.yticks(rotation=0)\n",
        "plt.tight_layout()\n",
        "plt.savefig(\"data/sensibilidad_elasticnet_mejorada.png\", dpi=300)\n",
        "plt.show()\n",
        "\n"
      ]
    },
    {
      "cell_type": "markdown",
      "metadata": {
        "id": "o3PB38dbooRD"
      },
      "source": [
        "### Sensibilidad del MSE a los hiperparámetros (`alpha`, `l1_ratio`) – ElasticNet\n",
        "\n",
        "El mapa de calor muestra el comportamiento del **error cuadrático medio (MSE)** en validación cruzada ante diferentes combinaciones de los hiperparámetros `alpha` (fuerza de regularización) y `l1_ratio` (balance entre penalización L1 y L2).\n",
        "\n",
        "#### Observaciones clave:\n",
        "\n",
        "- El **MSE más bajo** (~7.6e+08) se mantiene **consistente en un corredor horizontal** entre `l1_ratio` de aproximadamente **0.53 a 0.87**, sin importar mucho el valor exacto de `alpha` (rango 0.014–0.026). Esto evidencia una **zona estable y robusta** en cuanto al desempeño del modelo.\n",
        "  \n",
        "- Cuando `l1_ratio` se acerca a **1.0** (ElasticNet tiende a Lasso puro), el error **aumenta bruscamente** en todas las combinaciones de `alpha`, superando 1.0e+09. Esto confirma que en este problema, **Lasso puro no es la mejor opción**, probablemente por la presencia de multicolinealidad o necesidad de regularización suave.\n",
        "\n",
        "- En `l1_ratio` más bajos (< 0.47), el MSE tiende a estabilizarse pero ya no mejora. Esto indica que una penalización tipo Ridge (L2) pura o predominante tampoco aporta beneficios sustanciales.\n",
        "\n",
        "- El valor óptimo identificado por `GridSearchCV`:  \n",
        "  - `alpha ≈ 0.026`\n",
        "  - `l1_ratio ≈ 0.80`  \n",
        "  ... se encuentra exactamente dentro de esta zona de mínima pérdida, validando la **consistencia de la selección automática**.\n",
        "\n",
        "#### Conclusión:\n",
        "\n",
        "El gráfico revela que ElasticNet presenta **una región de desempeño óptimo bastante amplia y plana**, lo que indica **baja sensibilidad a pequeñas variaciones** en los hiperparámetros y, por tanto, **robustez del modelo**. Este tipo de comportamiento es altamente deseable en modelos de regresión, ya que reduce el riesgo de sobreajuste por elección puntual de parámetros.\n",
        "\n",
        "> El uso combinado de L1 y L2 en proporciones moderadas (ej. `l1_ratio ≈ 0.8`) ofrece un balance ideal entre selección de variables y estabilidad predictiva.\n"
      ]
    },
    {
      "cell_type": "code",
      "execution_count": null,
      "metadata": {
        "id": "y1EzXpPhknm1"
      },
      "outputs": [],
      "source": [
        "# === Evaluación del modelo ElasticNet ===\n",
        "\n",
        "df_elastic = evaluar_modelo_cv(\n",
        "    nombre_modelo=\"ElasticNet\",\n",
        "    modelo=modelo_elastic,\n",
        "    X=X_train_scaled,\n",
        "    y=y_train,\n",
        "    cv=cv,\n",
        "    scoring=scoring,\n",
        "    guardar_en=\"data/resultados_elasticnet.csv\"\n",
        ")\n",
        "\n",
        "# Mostrar resultados\n",
        "df_elastic\n"
      ]
    },
    {
      "cell_type": "markdown",
      "metadata": {
        "id": "_avAwTmGlPnF"
      },
      "source": [
        "### Evaluación del modelo ElasticNet (validación cruzada)\n",
        "\n",
        "Aunque el fold 5 presentó mayor error (MSE y MAPE), el modelo mantuvo un buen poder explicativo (R² > 0.85 en la mayoría de folds).\n",
        "\n",
        "ElasticNet combina regularización L1 y L2, logrando estabilidad y precisión incluso en presencia de multicolinealidad.\n",
        "\n",
        "> Modelo balanceado, con buen ajuste y adecuada generalización para el problema de predicción de precios de vivienda.\n"
      ]
    },
    {
      "cell_type": "code",
      "execution_count": null,
      "metadata": {
        "id": "I6frRRyvln5I"
      },
      "outputs": [],
      "source": [
        "# === Extracción de coeficientes del modelo ElasticNet ===\n",
        "\n",
        "# Asegurarse de que esté ajustado\n",
        "modelo_elastic.fit(X_train_scaled, y_train)\n",
        "\n",
        "# Obtener coeficientes\n",
        "coef_elastic = modelo_elastic.coef_\n",
        "\n",
        "# Asociar a nombres de variables\n",
        "df_coef_elastic = pd.DataFrame({\n",
        "    \"Variable\": columnas_X,\n",
        "    \"Coeficiente\": coef_elastic\n",
        "})\n",
        "\n",
        "# Filtrar variables con coeficientes distintos de cero\n",
        "df_coef_elastic = df_coef_elastic[df_coef_elastic[\"Coeficiente\"] != 0]\n",
        "df_coef_elastic = df_coef_elastic.sort_values(by=\"Coeficiente\", key=abs, ascending=False)\n",
        "\n",
        "# Guardar coeficientes\n",
        "df_coef_elastic.to_csv(\"data/coeficientes_elasticnet.csv\", index=False)\n",
        "\n",
        "# Mostrar las 10 más influyentes\n",
        "df_coef_elastic.head(10)\n"
      ]
    },
    {
      "cell_type": "markdown",
      "metadata": {
        "id": "2WOImY1AEq0i"
      },
      "source": [
        "### Top 10 variables más influyentes – Modelo ElasticNet\n",
        "\n",
        "El modelo ElasticNet identificó las siguientes variables como las más determinantes en la predicción del precio de las viviendas:\n",
        "\n",
        "#### Variables con mayor impacto positivo:\n",
        "- `Neighborhood_NoRidge`, `StoneBr`, `Roof Matl_WdShngl` y `2nd Flr SF` son fuertes impulsores del valor, con coeficientes > 23,000.\n",
        "\n",
        "#### Variables con mayor impacto negativo:\n",
        "- `Pool QC_Gd`, `Kitchen Qual_TA` y `Kitchen Qual_Gd` reducen el valor, lo que sugiere que, en el contexto codificado del modelo, ciertas combinaciones cualitativas pueden penalizar el precio.\n",
        "\n",
        "Estas variables combinan tanto categorías codificadas como metros cuadrados, lo que demuestra la capacidad del modelo para capturar efectos mixtos entre calidad y tamaño.\n",
        "\n",
        "> ElasticNet logra mantener interpretabilidad, seleccionando solo coeficientes relevantes con peso significativo.\n"
      ]
    },
    {
      "cell_type": "code",
      "execution_count": null,
      "metadata": {
        "id": "CGPUqjeBlqLk"
      },
      "outputs": [],
      "source": [
        "# === Gráfico top 10 coeficientes ElasticNet ===\n",
        "\n",
        "top_elastic = df_coef_elastic.copy()\n",
        "top_elastic[\"abs_coef\"] = top_elastic[\"Coeficiente\"].abs()\n",
        "top_elastic = top_elastic.sort_values(by=\"abs_coef\", ascending=False).head(10)\n",
        "top_elastic = top_elastic[::-1].reset_index(drop=True)\n",
        "\n",
        "plt.figure(figsize=(10, 6))\n",
        "sns.barplot(data=top_elastic, y=\"Variable\", x=\"Coeficiente\", palette=\"viridis\")\n",
        "plt.axvline(0, color='gray', linestyle='--')\n",
        "for i, coef in enumerate(top_elastic[\"Coeficiente\"]):\n",
        "    plt.text(coef, i, f\"{coef:.0f}\", ha='left' if coef > 0 else 'right', va='center')\n",
        "plt.title(\"Top 10 variables más influyentes - Modelo ElasticNet\")\n",
        "plt.tight_layout()\n",
        "plt.savefig(\"data/top_10_variables_elasticnet.png\", dpi=300)\n",
        "plt.show()\n"
      ]
    },
    {
      "cell_type": "markdown",
      "metadata": {
        "id": "0SjCqf-SE_dm"
      },
      "source": [
        "### Gráfico de variables más influyentes – Modelo ElasticNet\n",
        "\n",
        "El gráfico muestra los 10 coeficientes más significativos en el modelo ElasticNet, tanto positivos como negativos.\n",
        "\n",
        "- **Impacto positivo (mayor precio)**: Las variables `Neighborhood_NoRidge`, `StoneBr`, `Roof Matl_WdShngl` y `2nd Flr SF` presentan los coeficientes positivos más altos, indicando que incrementan el valor de la vivienda de forma considerable.\n",
        "  \n",
        "- **Impacto negativo (menor precio)**: Las categorías cualitativas como `Pool QC_Gd`, `Kitchen Qual_TA/Gd` y `Bsmt Qual_Gd` aparecen con coeficientes negativos, lo que sugiere que su presencia, en combinación con otras variables, puede estar asociada a valores más bajos dentro del modelo.\n",
        "\n",
        "La regularización del modelo permite destacar solo aquellas variables que realmente aportan al ajuste, mejorando la interpretabilidad sin sobreajustar.\n"
      ]
    },
    {
      "cell_type": "code",
      "execution_count": null,
      "metadata": {
        "id": "HBaCzKzul5ox"
      },
      "outputs": [],
      "source": [
        "\n",
        "# === Generar predicciones con validación cruzada ===\n",
        "y_pred_elastic = cross_val_predict(modelo_elastic, X_train_scaled, y_train, cv=cv)\n",
        "residuos_elastic = y_train - y_pred_elastic\n",
        "\n",
        "# === Histograma de residuos ===\n",
        "plt.figure(figsize=(8, 5))\n",
        "sns.histplot(residuos_elastic, kde=True, bins=40, color=\"steelblue\")\n",
        "plt.title(\"Distribución de residuos - ElasticNet\")\n",
        "plt.xlabel(\"Error (y_real - y_predicho)\")\n",
        "plt.ylabel(\"Frecuencia\")\n",
        "plt.tight_layout()\n",
        "plt.savefig(\"data/residuos_distribucion_elasticnet.png\", dpi=300)\n",
        "plt.show()\n",
        "\n",
        "# === Test de normalidad: Shapiro-Wilk ===\n",
        "stat, p = shapiro(residuos_elastic)\n",
        "print(f\"Shapiro-Wilk test: estadístico = {stat:.3f}, p = {p:.4f}\")\n",
        "if p < 0.05:\n",
        "    print(\"Normalidad de residuos: Se rechaza (no normal)\")\n",
        "else:\n",
        "    print(\"Normalidad de residuos: No se rechaza (normal)\")\n"
      ]
    },
    {
      "cell_type": "markdown",
      "metadata": {
        "id": "EzBVvSLdFSzh"
      },
      "source": [
        "### Distribución de residuos – Modelo ElasticNet\n",
        "\n",
        "El histograma muestra que los residuos del modelo ElasticNet se agrupan fuertemente alrededor de cero, lo cual es deseable. Sin embargo:\n",
        "\n",
        "- El test de **Shapiro-Wilk** arrojó un **estadístico = 0.774** con **p = 0.0000**, por lo que **se rechaza la hipótesis de normalidad**.\n",
        "- Se observa una distribución **ligeramente sesgada y leptocúrtica**, con colas más pesadas de lo esperado bajo una distribución normal.\n",
        "\n",
        "Aunque la no normalidad no invalida el modelo, sugiere que podría haber outliers o relaciones no capturadas completamente por la estructura lineal.\n",
        "\n",
        "> La concentración de errores cerca de cero indica un buen ajuste general, pero es recomendable complementar con otras validaciones como análisis de homocedasticidad y autocorrelación.\n"
      ]
    },
    {
      "cell_type": "code",
      "execution_count": null,
      "metadata": {
        "id": "-5fMr3d5mBtp"
      },
      "outputs": [],
      "source": [
        "\n",
        "\n",
        "# === Gráfico de residuos vs predicción ===\n",
        "plt.figure(figsize=(8, 5))\n",
        "sns.scatterplot(x=y_pred_elastic, y=residuos_elastic, alpha=0.4)\n",
        "plt.axhline(0, color=\"red\", linestyle=\"--\")\n",
        "plt.title(\"Residuos vs Predicción - ElasticNet\")\n",
        "plt.xlabel(\"Predicción\")\n",
        "plt.ylabel(\"Residuos\")\n",
        "plt.tight_layout()\n",
        "plt.savefig(\"data/residuos_vs_prediccion_elasticnet.png\", dpi=300)\n",
        "plt.show()\n",
        "\n",
        "# === Estadístico de Durbin-Watson ===\n",
        "dw_stat_elastic = durbin_watson(residuos_elastic)\n",
        "print(f\"Estadístico de Durbin-Watson (ElasticNet): {dw_stat_elastic:.3f}\")\n"
      ]
    },
    {
      "cell_type": "markdown",
      "metadata": {
        "id": "7ScC1PtiFgc-"
      },
      "source": [
        "### Residuos vs Predicción – Modelo ElasticNet\n",
        "\n",
        "El gráfico de dispersión muestra la relación entre las predicciones del modelo y sus residuos.\n",
        "\n",
        "- La mayoría de los residuos se distribuyen alrededor de cero sin un patrón evidente, lo que indica que **no hay violación severa de linealidad ni heterocedasticidad extrema**.\n",
        "- El valor del **estadístico de Durbin-Watson es 2.010**, lo cual sugiere **ausencia de autocorrelación** entre los residuos (valor ideal: 2.0).\n",
        "\n",
        "Se detectan algunos posibles outliers y mayor dispersión en predicciones altas, lo cual puede afectar la homocedasticidad en extremos del rango.\n",
        "\n",
        "> En general, el comportamiento de los residuos valida la calidad del ajuste y apoya la independencia de errores, reforzando la confiabilidad del modelo ElasticNet.\n"
      ]
    },
    {
      "cell_type": "code",
      "execution_count": null,
      "metadata": {
        "id": "ZrZxBOo8mLue"
      },
      "outputs": [],
      "source": [
        "\n",
        "# Convertir X_train_scaled a DataFrame para tener nombres\n",
        "X_scaled_df = pd.DataFrame(X_train_scaled, columns=columnas_X)\n",
        "\n",
        "# Agregar constante para el cálculo de VIF\n",
        "X_scaled_vif = add_constant(X_scaled_df)\n",
        "\n",
        "# Calcular VIF por variable\n",
        "vif_elastic = pd.DataFrame()\n",
        "vif_elastic[\"Variable\"] = X_scaled_vif.columns\n",
        "vif_elastic[\"VIF\"] = [variance_inflation_factor(X_scaled_vif.values, i) for i in range(X_scaled_vif.shape[1])]\n",
        "\n",
        "# Eliminar constante\n",
        "vif_elastic = vif_elastic[vif_elastic[\"Variable\"] != \"const\"].reset_index(drop=True)\n",
        "\n",
        "# Ordenar y guardar\n",
        "vif_elastic = vif_elastic.sort_values(by=\"VIF\", ascending=False)\n",
        "vif_elastic.to_csv(\"data/vif_elasticnet.csv\", index=False)\n",
        "\n",
        "# Mostrar top 10 variables con mayor VIF\n",
        "vif_elastic.head(10)\n"
      ]
    },
    {
      "cell_type": "markdown",
      "metadata": {
        "id": "DML784v1GCuL"
      },
      "source": [
        "### Variables con mayor colinealidad – VIF en modelo ElasticNet\n",
        "\n",
        "El análisis del **Factor de Inflación de la Varianza (VIF)** revela que varias variables presentan un VIF igual a `inf` (infinito), lo que indica **colinealidad perfecta o casi perfecta**.\n",
        "\n",
        "#### Variables con colinealidad crítica:\n",
        "- Variables como `Garage Cond_None`, `BsmtFin Type 1_None`, `Exterior 1st_PreCast`, y `Bldg Type_Duplex` muestran colinealidad extrema, probablemente por ser dummies altamente correlacionadas con otras categorías exclusivas o poco representadas.\n",
        "\n",
        "#### Implicaciones:\n",
        "- Aunque ElasticNet **mitiga la colinealidad al aplicar regularización**, estos resultados sugieren que podría ser útil:\n",
        "  - Revisar la codificación de variables categóricas (`OneHotEncoding` sin eliminar una base).\n",
        "  - Aplicar **reducción de dimensionalidad** o agrupar niveles poco frecuentes.\n",
        "\n",
        "> ElasticNet tolera mejor la colinealidad que OLS o Lasso, pero identificar estas redundancias contribuye a mejorar la interpretabilidad y robustez del modelo.\n"
      ]
    },
    {
      "cell_type": "code",
      "execution_count": null,
      "metadata": {
        "id": "UgHstKWTmfhM"
      },
      "outputs": [],
      "source": [
        "\n",
        "# === Definir fracciones del conjunto de entrenamiento ===\n",
        "train_sizes = np.linspace(0.1, 1.0, 10)\n",
        "\n",
        "# === Obtener curva de aprendizaje ===\n",
        "train_sizes_abs, train_scores, val_scores = learning_curve(\n",
        "    estimator=modelo_elastic,\n",
        "    X=X_train_scaled,\n",
        "    y=y_train,\n",
        "    train_sizes=train_sizes,\n",
        "    cv=cv,\n",
        "    scoring='neg_mean_squared_error',\n",
        "    n_jobs=-1\n",
        ")\n",
        "\n",
        "# === Convertir errores a positivos ===\n",
        "train_errors = -train_scores\n",
        "val_errors = -val_scores\n",
        "\n",
        "# === Calcular promedios y desviaciones ===\n",
        "train_mean = train_errors.mean(axis=1)\n",
        "train_std = train_errors.std(axis=1)\n",
        "val_mean = val_errors.mean(axis=1)\n",
        "val_std = val_errors.std(axis=1)\n",
        "\n",
        "# === Guardar como CSV ===\n",
        "df_lc_elastic = pd.DataFrame({\n",
        "    \"Tamaño entrenamiento\": train_sizes_abs,\n",
        "    \"MSE Entrenamiento\": train_mean,\n",
        "    \"MSE Validación\": val_mean,\n",
        "    \"STD Validación\": val_std\n",
        "})\n",
        "df_lc_elastic.to_csv(\"data/learning_curve_elasticnet.csv\", index=False)\n",
        "\n",
        "# === Graficar ===\n",
        "plt.figure(figsize=(10, 6))\n",
        "plt.plot(train_sizes_abs, train_mean, label=\"Error de entrenamiento\", color=\"blue\")\n",
        "plt.fill_between(train_sizes_abs, train_mean - train_std, train_mean + train_std, alpha=0.2, color=\"blue\")\n",
        "\n",
        "plt.plot(train_sizes_abs, val_mean, label=\"Error de validación\", color=\"orange\")\n",
        "plt.fill_between(train_sizes_abs, val_mean - val_std, val_mean + val_std, alpha=0.2, color=\"orange\")\n",
        "\n",
        "plt.title(\"Curva de Aprendizaje - Modelo ElasticNet\")\n",
        "plt.xlabel(\"Tamaño del conjunto de entrenamiento\")\n",
        "plt.ylabel(\"Error cuadrático medio (MSE)\")\n",
        "plt.legend()\n",
        "plt.grid(True)\n",
        "plt.tight_layout()\n",
        "plt.savefig(\"data/learning_curve_elasticnet.png\", dpi=300)\n",
        "plt.show()\n"
      ]
    },
    {
      "cell_type": "markdown",
      "metadata": {
        "id": "7D5ACXqyGvfB"
      },
      "source": [
        "### Curva de aprendizaje – Modelo ElasticNet\n",
        "\n",
        "La curva de aprendizaje muestra el comportamiento del error cuadrático medio (MSE) a medida que aumenta el tamaño del conjunto de entrenamiento:\n",
        "\n",
        "- **Error de entrenamiento**: Aumenta suavemente conforme se agregan más datos, lo que es esperado en modelos regularizados como ElasticNet.\n",
        "- **Error de validación**: Disminuye y se estabiliza, aunque mantiene una separación moderada respecto al entrenamiento.\n",
        "\n",
        "#### Interpretación:\n",
        "\n",
        "- La **brecha entre entrenamiento y validación sugiere un sesgo moderado**, típico en modelos lineales aplicados a problemas complejos.\n",
        "- No hay señales claras de sobreajuste: el modelo generaliza bien incluso con más datos, aunque podría beneficiarse de mayor flexibilidad.\n",
        "\n",
        "> ElasticNet muestra un comportamiento estable y predecible, confirmando su capacidad de generalización sobre el dataset Ames Housing.\n"
      ]
    },
    {
      "cell_type": "code",
      "execution_count": null,
      "metadata": {
        "id": "cNx6EvkZEyop"
      },
      "outputs": [],
      "source": [
        "# === Reentrenamiento final del modelo optimizado con todo el set de entrenamiento ===\n",
        "modelo_elastic.fit(X_train_scaled, y_train)\n",
        "\n",
        "# === Evaluación sobre el conjunto de test ===\n",
        "\n",
        "\n",
        "y_test_pred_elastic = modelo_elastic.predict(X_test_scaled)\n",
        "\n",
        "# === Cálculo de métricas ===\n",
        "mae_elastic = mean_absolute_error(y_test, y_test_pred_elastic)\n",
        "mse_elastic = mean_squared_error(y_test, y_test_pred_elastic)\n",
        "rmse_elastic = np.sqrt(mse_elastic)\n",
        "r2_elastic = r2_score(y_test, y_test_pred_elastic)\n",
        "mape_elastic = mean_absolute_percentage_error(y_test, y_test_pred_elastic) * 100\n",
        "\n",
        "# === Tiempo de entrenamiento del mejor modelo ===\n",
        "fit_time_elastic = grid_elastic.cv_results_['mean_fit_time'][grid_elastic.best_index_]\n",
        "\n",
        "# === Mostrar resultados ===\n",
        "print(\"Desempeño final del modelo ElasticNet (conjunto de test):\")\n",
        "print(f\"MAE   = {mae_elastic:,.2f}\")\n",
        "print(f\"MSE   = {mse_elastic:.2e}\")\n",
        "print(f\"RMSE  = {rmse_elastic:,.2f}\")\n",
        "print(f\"R²    = {r2_elastic:.4f}\")\n",
        "print(f\"MAPE  = {mape_elastic:.2f}%\")\n",
        "print(f\"Tiempo promedio de entrenamiento (fit_time): {fit_time_elastic:.4f} segundos\")\n",
        "\n"
      ]
    },
    {
      "cell_type": "markdown",
      "metadata": {
        "id": "oB5N87CkMaJl"
      },
      "source": [
        "### Evaluación final del modelo ElasticNet (conjunto de test)\n",
        "\n",
        "El modelo `ElasticNet` fue reentrenado con el total del conjunto de entrenamiento y evaluado en el conjunto de test, obteniendo asi estos resultados mostrados.\n",
        "\n",
        "El modelo mantiene un buen poder predictivo fuera de muestra, con un error porcentual menor al 10% y un R² cercano al 90%. Además, su tiempo de entrenamiento fue significativamente bajo, lo que lo hace eficiente y adecuado para implementaciones rápidas.\n"
      ]
    },
    {
      "cell_type": "markdown",
      "metadata": {
        "id": "6nrEn6kXI8Ha"
      },
      "source": [
        "## Modelo 4: Kernel Ridge Regression\n",
        "\n",
        "La regresión de cresta con kernel (Kernel Ridge Regression) extiende el modelo Ridge clásico mediante el uso de **funciones kernel**, lo que permite capturar **relaciones no lineales** entre las variables predictoras y la variable objetivo. Este modelo combina dos conceptos clave:\n",
        "\n",
        "- **Regularización L2 (Ridge)**: ayuda a evitar el sobreajuste penalizando grandes coeficientes.\n",
        "- **Truco del kernel**: transforma los datos a un espacio de mayor dimensionalidad, permitiendo capturar patrones complejos sin calcular explícitamente dicha transformación.\n",
        "\n",
        "En este experimento, utilizaremos el kernel **radial base (RBF)** por defecto, que es ideal para relaciones no lineales suaves.\n",
        "\n",
        "### Procedimiento\n",
        "\n",
        "1. **Entrenamiento del modelo base** con hiperparámetros por defecto.\n",
        "2. **Optimización de hiperparámetros (`alpha`, `gamma`)** mediante `GridSearchCV`.\n",
        "3. **Evaluación de desempeño** con validación cruzada (5 folds) usando MAE, MSE, R² y MAPE.\n",
        "4. **Análisis de residuos**, normalidad, autocorrelación y colinealidad.\n",
        "5. **Visualizaciones**: curva de aprendizaje, top variables influyentes, matriz de sensibilidad.\n",
        "6. **Interpretaciones y recomendaciones** basadas en el rendimiento y estabilidad del modelo.\n",
        "\n",
        "> Se busca determinar si Kernel Ridge ofrece una mejora sustancial frente a los modelos lineales en términos de ajuste, generalización y robustez, particularmente en presencia de relaciones no lineales en el dataset Ames Housing.\n"
      ]
    },
    {
      "cell_type": "code",
      "execution_count": null,
      "metadata": {
        "id": "Pc37-0agJkj9"
      },
      "outputs": [],
      "source": [
        "# ============================================================\n",
        "#  Definición y evaluación del modelo base Kernel Ridge\n",
        "# ============================================================\n",
        "\n",
        "\n",
        "# Definir modelo base con kernel RBF\n",
        "modelo_kr = KernelRidge(kernel='rbf')\n",
        "\n",
        "# Evaluación del modelo base con validación cruzada\n",
        "df_kr_base = evaluar_modelo_cv(\n",
        "    nombre_modelo=\"KernelRidge\",\n",
        "    modelo=modelo_kr,\n",
        "    X=X_train_scaled,\n",
        "    y=y_train,\n",
        "    cv=cv,\n",
        "    scoring=scoring,\n",
        "    guardar_en=\"data/resultados_kernelridge_base.csv\"\n",
        ")\n",
        "\n",
        "# Mostrar resultados\n",
        "print(\"Resultados del modelo base Kernel Ridge:\")\n",
        "display(df_kr_base)\n"
      ]
    },
    {
      "cell_type": "markdown",
      "metadata": {
        "id": "sm-yfr_1Jzab"
      },
      "source": [
        "### Evaluación base – Kernel Ridge\n",
        "\n",
        "El modelo Kernel Ridge con parámetros por defecto (`alpha=1.0`, `kernel='rbf'`) muestra estas métricas que son comparables a las de Lasso y ElasticNet, con un **R² ligeramente superior**, indicando que el modelo base ya capta parte de la no linealidad del problema.\n",
        "\n",
        "> Justifica avanzar con optimización de `alpha` y `gamma`, ya que hay evidencia de buen ajuste inicial y potencial de mejora.\n"
      ]
    },
    {
      "cell_type": "code",
      "execution_count": null,
      "metadata": {
        "id": "MoAi6ys0Kdmg"
      },
      "outputs": [],
      "source": [
        "\n",
        "# ===  Definición del espacio de búsqueda ===\n",
        "param_grid_kr = {\n",
        "    'alpha': np.logspace(-2, 3, 6),        # [0.01, 0.1, 1, 10, 100, 1000]\n",
        "    'gamma': np.logspace(-4, -1, 4)        # [1e-4, 1e-3, 1e-2, 1e-1]\n",
        "}\n",
        "\n",
        "# ===  Configuración de búsqueda con validación cruzada ===\n",
        "grid_kr = GridSearchCV(\n",
        "    estimator=KernelRidge(kernel='rbf'),\n",
        "    param_grid=param_grid_kr,\n",
        "    cv=cv,\n",
        "    scoring='neg_mean_squared_error',\n",
        "    n_jobs=-1\n",
        ")\n",
        "\n",
        "# ===  Entrenamiento ===\n",
        "grid_kr.fit(X_train_scaled, y_train)\n",
        "\n",
        "# ===  Extraer mejor modelo ===\n",
        "modelo_kr_opt = grid_kr.best_estimator_\n",
        "\n",
        "print(\"Mejores hiperparámetros encontrados por GridSearchCV:\")\n",
        "print(f\"  alpha : {grid_kr.best_params_['alpha']}\")\n",
        "print(f\"  gamma : {grid_kr.best_params_['gamma']}\")\n",
        "\n"
      ]
    },
    {
      "cell_type": "markdown",
      "metadata": {
        "id": "Tdc9jbzM_Xhn"
      },
      "source": [
        "### Optimización de hiperparámetros mediante GridSearchCV\n",
        "\n",
        "Para ajustar el modelo `Kernel Ridge` con mayor precisión, se realizó una búsqueda en malla (`GridSearchCV`) sobre los hiperparámetros `alpha` y `gamma`, evaluando el rendimiento con validación cruzada y la métrica de error cuadrático medio negativo (`neg_mean_squared_error`).\n",
        "\n",
        "Los **mejores hiperparámetros encontrados** fueron:\n",
        "\n",
        "- `alpha = 0.1`: Este valor representa un bajo nivel de regularización. En el contexto de Kernel Ridge, un `alpha` pequeño permite que el modelo se ajuste más a los datos, lo cual puede aumentar la varianza pero reducir el sesgo. El hecho de que el modelo haya funcionado mejor con un `alpha` bajo sugiere que los datos tienen una estructura no lineal clara que el modelo necesita seguir de cerca para lograr un buen desempeño.\n",
        "  \n",
        "- `gamma = 0.01`: Este valor controla la forma del kernel RBF (Radial Basis Function). Un `gamma` bajo implica una función kernel más amplia, lo que produce un modelo más suave y menos propenso al sobreajuste. La elección de `gamma = 0.01` indica que el modelo generaliza mejor cuando evita funciones kernel demasiado específicas o estrechas.\n",
        "\n",
        "En conjunto, esta combinación de hiperparámetros sugiere un equilibrio adecuado entre flexibilidad del modelo (por el kernel RBF) y estabilidad frente al sobreajuste (por el efecto combinado de `alpha` bajo y `gamma` moderadamente bajo).\n"
      ]
    },
    {
      "cell_type": "code",
      "execution_count": null,
      "metadata": {
        "id": "fq6LZhb9Cmm7"
      },
      "outputs": [],
      "source": [
        "# Extraer tiempos de entrenamiento del GridSearchCV\n",
        "\n",
        "resultados = pd.DataFrame(grid_kr.cv_results_)\n",
        "\n",
        "# Mostrar los 5 valores más rápidos y más lentos\n",
        "print(\"Resumen de tiempos de entrenamiento por combinación de hiperparámetros:\")\n",
        "print(resultados[['param_alpha', 'param_gamma', 'mean_fit_time']].sort_values('mean_fit_time'))\n",
        "\n",
        "# Tiempo del mejor modelo\n",
        "tiempo_optimo = resultados.loc[grid_kr.best_index_, 'mean_fit_time']\n",
        "print(f\"\\nTiempo promedio de entrenamiento del modelo óptimo: {tiempo_optimo:.4f} segundos\")\n"
      ]
    },
    {
      "cell_type": "markdown",
      "metadata": {
        "id": "o-NCHFcIDtDy"
      },
      "source": [
        "### Análisis del tiempo de entrenamiento (`fit_time`)\n",
        "\n",
        "El tiempo de entrenamiento promedio se obtuvo para cada combinación de hiperparámetros (`alpha`, `gamma`) evaluada durante la búsqueda en malla (`GridSearchCV`).\n",
        "\n",
        "- Los tiempos oscilaron entre **0.43 y 0.73 segundos**, lo cual es razonable para un modelo no lineal con validación cruzada.\n",
        "- La combinación óptima (`alpha = 0.1`, `gamma = 0.01`) tuvo un **tiempo promedio de ajuste de 0.7298 segundos**.\n",
        "\n",
        "Esto indica que, aunque `Kernel Ridge` con kernel RBF es más costoso computacionalmente que modelos lineales, su tiempo de entrenamiento sigue siendo **eficiente y manejable** dentro del flujo general del proyecto.\n"
      ]
    },
    {
      "cell_type": "code",
      "execution_count": null,
      "metadata": {
        "id": "N49jgjVGA4gw"
      },
      "outputs": [],
      "source": [
        "# === Crear mapa de sensibilidad de GridSearchCV ===\n",
        "\n",
        "\n",
        "# Extraer los resultados del grid\n",
        "resultados = pd.DataFrame(grid_kr.cv_results_)\n",
        "\n",
        "# Convertir a formato gráfico: alpha (rows) vs gamma (columns)\n",
        "# Usamos el score negativo (neg_mean_squared_error), por eso lo negamos para graficar MSE positivo\n",
        "tabla_sensibilidad = resultados.pivot_table(\n",
        "    index='param_alpha',\n",
        "    columns='param_gamma',\n",
        "    values='mean_test_score'\n",
        ").applymap(lambda x: -x)  # convertir a MSE positivo\n",
        "\n",
        "plt.figure(figsize=(8, 6))\n",
        "sns.heatmap(tabla_sensibilidad, annot=True, fmt=\".2e\", cmap=\"YlOrBr\")\n",
        "plt.title(\"Mapa de sensibilidad del MSE en GridSearchCV (Kernel Ridge)\")\n",
        "plt.xlabel(\"gamma\")\n",
        "plt.ylabel(\"alpha\")\n",
        "plt.tight_layout()\n",
        "plt.savefig(\"data/sensibilidad_kernelridge.png\", dpi=300)\n",
        "plt.show()\n",
        "\n",
        "# === Guardar todos los resultados del grid en CSV ===\n",
        "df_grid_kr = pd.DataFrame(grid_kr.cv_results_)\n",
        "df_grid_kr.to_csv(\"data/cv_results_kernelridge.csv\", index=False)\n"
      ]
    },
    {
      "cell_type": "markdown",
      "metadata": {
        "id": "wN57Q_C1BQeX"
      },
      "source": [
        "### Mapa de sensibilidad (`alpha` vs `gamma`)\n",
        "\n",
        "El mapa de calor muestra el MSE promedio obtenido en validación cruzada para cada combinación de `alpha` y `gamma` en el modelo Kernel Ridge.\n",
        "\n",
        "- El menor error se alcanzó con `alpha = 0.1` y `gamma = 0.01`, validando su elección como la combinación óptima.\n",
        "- A medida que `alpha` o `gamma` aumentan, el error tiende a crecer, lo que indica que una regularización excesiva o kernels demasiado estrechos afectan negativamente el desempeño.\n",
        "\n",
        "Este análisis visual complementa y respalda la selección de hiperparámetros obtenida por `GridSearchCV`.\n"
      ]
    },
    {
      "cell_type": "code",
      "execution_count": null,
      "metadata": {
        "id": "SGQtiyMgLVnO"
      },
      "outputs": [],
      "source": [
        "# Evaluación del modelo Kernel Ridge optimizado\n",
        "df_kr_opt = evaluar_modelo_cv(\n",
        "    nombre_modelo=\"KernelRidge_Opt\",\n",
        "    modelo=modelo_kr_opt,\n",
        "    X=X_train_scaled,\n",
        "    y=y_train,\n",
        "    cv=cv,\n",
        "    scoring=scoring,\n",
        "    guardar_en=\"data/resultados_kernelridge_opt.csv\"\n",
        ")\n",
        "\n",
        "# Mostrar resultados\n",
        "print(\"Resultados del modelo Kernel Ridge optimizado:\")\n",
        "display(df_kr_opt)\n"
      ]
    },
    {
      "cell_type": "markdown",
      "metadata": {
        "id": "KRERl-NA_m5m"
      },
      "source": [
        "### Evaluación del Modelo Kernel Ridge Optimizado\n",
        "\n",
        "El modelo `Kernel Ridge` fue evaluado mediante validación cruzada de 5 folds utilizando las métricas MAE, MSE, R² y MAPE. A continuación se resumen los resultados promedio obtenidos:\n",
        "\n",
        "- **MAE (Error absoluto medio)**: `15,037.65`  \n",
        "  Indica que, en promedio, el modelo se equivoca por aproximadamente **15 mil dólares** en la predicción del precio de venta de las viviendas. Este valor es razonable dado el rango de precios en el dataset Ames Housing.\n",
        "\n",
        "- **MSE (Error cuadrático medio)**: `7.19e+08`  \n",
        "  Esta métrica penaliza más los errores grandes. Un valor en el orden de los cientos de millones es esperado, aunque indica que aún hay errores significativos en algunas predicciones.\n",
        "\n",
        "- **R² (Coeficiente de determinación)**: `0.8798`  \n",
        "  El modelo explica el **87.98% de la variabilidad** en los datos. Esto se considera un muy buen desempeño, especialmente para un modelo no lineal como Kernel Ridge.\n",
        "\n",
        "- **MAPE (Error porcentual absoluto medio)**: `8.96%`  \n",
        "  En términos relativos, el modelo tiene un error porcentual medio inferior al 9%, lo que implica **alta precisión relativa**.\n",
        "\n",
        "###Interpretación\n",
        "\n",
        "Los resultados reflejan que el modelo optimizado logra un **buen equilibrio entre precisión y generalización**, con bajo error absoluto, buen ajuste a la varianza de los datos y un error porcentual aceptable para contextos de predicción inmobiliaria.\n",
        "\n",
        "Sin embargo, se observan algunas variaciones notables entre folds (por ejemplo, el Fold 2 muestra un MSE bastante mayor que los demás), lo cual podría indicar **inestabilidad localizada** en ciertas particiones del conjunto de datos.\n",
        "\n",
        "### Conclusión\n",
        "\n",
        "El modelo Kernel Ridge con hiperparámetros optimizados es **sólido y competitivo**, mostrando resultados consistentes y una capacidad predictiva destacada, especialmente si se compara con modelos lineales convencionales.\n"
      ]
    },
    {
      "cell_type": "code",
      "execution_count": null,
      "metadata": {
        "id": "h8jg0ex56kH4"
      },
      "outputs": [],
      "source": [
        "# ============================================================\n",
        "#  Análisis de residuos y diagnóstico\n",
        "# ============================================================\n",
        "\n",
        "#  Predicción en entrenamiento\n",
        "y_train_pred = modelo_kr_opt.predict(X_train_scaled)\n",
        "residuos = y_train - y_train_pred\n",
        "\n"
      ]
    },
    {
      "cell_type": "code",
      "execution_count": null,
      "metadata": {
        "id": "dm6a8zqU9hll"
      },
      "outputs": [],
      "source": [
        "# === Histograma de residuos ===\n",
        "plt.figure(figsize=(8, 5))\n",
        "sns.histplot(residuos, kde=True, bins=40, color=\"steelblue\")\n",
        "plt.title(\"Distribución de residuos - Kernel Ridge\")\n",
        "plt.xlabel(\"Error (y_real - y_predicho)\")\n",
        "plt.ylabel(\"Frecuencia\")\n",
        "plt.tight_layout()\n",
        "plt.savefig(\"data/residuos_distribucion_kernelridge.png\", dpi=300)\n",
        "plt.show()\n",
        "\n",
        "\n",
        "#  Prueba de normalidad (Shapiro-Wilk)\n",
        "stat_shapiro, p_shapiro = shapiro(residuos)\n",
        "print(f\"Shapiro-Wilk: estadístico = {stat_shapiro:.4f}, p-valor = {p_shapiro:.4f}\")\n",
        "print(\"Normalidad aceptada\" if p_shapiro > 0.05 else \"Se rechaza la normalidad\")\n",
        "\n"
      ]
    },
    {
      "cell_type": "code",
      "execution_count": null,
      "metadata": {
        "id": "w3gbqlF5BkVR"
      },
      "outputs": [],
      "source": [
        "\n",
        "# === Gráfico residuos vs. predicción ===\n",
        "plt.figure(figsize=(8, 5))\n",
        "sns.scatterplot(x=y_train_pred, y=residuos, alpha=0.4)\n",
        "plt.axhline(0, color=\"red\", linestyle=\"--\")\n",
        "plt.title(\"Residuos vs Predicción - Kernel Ridge\")\n",
        "plt.xlabel(\"Predicción\")\n",
        "plt.ylabel(\"Residuos\")\n",
        "plt.tight_layout()\n",
        "plt.savefig(\"data/residuos_vs_prediccion_kernelridge.png\", dpi=300)\n",
        "plt.show()\n",
        "\n",
        "#  Autocorrelación (Durbin-Watson)\n",
        "dw = durbin_watson(residuos)\n",
        "print(f\"Durbin-Watson: {dw:.4f}\")\n",
        "print(\"Sin autocorrelación significativa\" if 1.5 < dw < 2.5 else \"Posible autocorrelación\")\n"
      ]
    },
    {
      "cell_type": "markdown",
      "metadata": {
        "id": "ReQ-T8FI_6mg"
      },
      "source": [
        "### Análisis de Residuos y Diagnóstico del Modelo Kernel Ridge\n",
        "\n",
        "Para evaluar el ajuste del modelo y sus supuestos, se analizaron los residuos mediante visualización y pruebas estadísticas:\n",
        "\n",
        "#### Distribución de residuos\n",
        "\n",
        "- El histograma muestra que los residuos se distribuyen de manera **asimétrica y sesgada a la derecha**, lo cual indica una desviación clara de la normalidad.\n",
        "- Aunque la concentración principal está cerca de cero, hay una **cola larga hacia los valores positivos**, lo cual sugiere que el modelo tiende a subestimar algunos precios.\n",
        "\n",
        "#### Gráfico de residuos vs. predicción\n",
        "\n",
        "- La nube de puntos muestra que los residuos están distribuidos **alrededor de la línea horizontal cero**, sin un patrón claro, lo cual es un buen indicador de que el modelo **no está sistemáticamente mal especificado**.\n",
        "- Sin embargo, se observa una **mayor dispersión en precios más altos**, lo que puede indicar **heterocedasticidad leve** (el error aumenta con el precio).\n",
        "\n",
        "#### Pruebas estadísticas\n",
        "\n",
        "- **Shapiro-Wilk**: estadístico = `0.9206`, p-valor = `0.0000`  \n",
        "  → Se **rechaza la hipótesis de normalidad**. Este resultado es común en datos reales, especialmente en valores monetarios con sesgos naturales.\n",
        "\n",
        "- **Durbin-Watson**: estadístico = `1.9840`  \n",
        "  → Este valor está **muy cerca de 2**, lo cual indica que **no hay evidencia de autocorrelación** entre los residuos. Esto es deseable, ya que sugiere independencia en los errores.\n",
        "\n",
        "---\n",
        "\n",
        "### Conclusión\n",
        "\n",
        "A pesar de la **no normalidad de los residuos**, el modelo presenta **buena dispersión aleatoria**, **sin autocorrelación** y con un ajuste razonable en la mayoría de las observaciones.  \n",
        "La presencia de residuos sesgados y dispersión creciente sugiere que una futura mejora podría incluir técnicas que manejen mejor **heterocedasticidad** o transformaciones sobre la variable objetivo (e.g., log(SalePrice)).\n"
      ]
    },
    {
      "cell_type": "code",
      "execution_count": null,
      "metadata": {
        "id": "W-Te-sgl6mlM"
      },
      "outputs": [],
      "source": [
        "\n",
        "# Obtener curvas de aprendizaje\n",
        "train_sizes, train_scores, val_scores = learning_curve(\n",
        "    estimator=modelo_kr_opt,\n",
        "    X=X_train_scaled,\n",
        "    y=y_train,\n",
        "    cv=cv,\n",
        "    scoring='neg_mean_squared_error',\n",
        "    train_sizes=np.linspace(0.1, 1.0, 5),\n",
        "    n_jobs=-1\n",
        ")\n",
        "\n",
        "# Calcular medias y desviaciones estándar (ya son MSE negativos)\n",
        "train_mean = -train_scores.mean(axis=1)\n",
        "train_std = train_scores.std(axis=1)\n",
        "\n",
        "val_mean = -val_scores.mean(axis=1)\n",
        "val_std = val_scores.std(axis=1)\n",
        "\n",
        "# Gráfico con bandas de confianza\n",
        "plt.figure(figsize=(10, 6))\n",
        "\n",
        "# Línea entrenamiento + banda\n",
        "plt.plot(train_sizes, train_mean, label=\"Error de entrenamiento\", color='blue')\n",
        "plt.fill_between(train_sizes, train_mean - train_std, train_mean + train_std, alpha=0.3, color='blue')\n",
        "\n",
        "# Línea validación + banda\n",
        "plt.plot(train_sizes, val_mean, label=\"Error de validación\", color='orange')\n",
        "plt.fill_between(train_sizes, val_mean - val_std, val_mean + val_std, alpha=0.3, color='orange')\n",
        "\n",
        "# Configuración de ejes y título\n",
        "plt.title(\"Curva de Aprendizaje - Modelo Kernel Ridge\")\n",
        "plt.xlabel(\"Tamaño del conjunto de entrenamiento\")\n",
        "plt.ylabel(\"Error cuadrático medio (MSE)\")\n",
        "plt.legend()\n",
        "plt.grid(True)\n",
        "plt.tight_layout()\n",
        "\n",
        "# Guardar imagen\n",
        "plt.savefig(\"data/curva_aprendizaje_kernelridge.png\", dpi=300)\n",
        "\n",
        "plt.show()\n"
      ]
    },
    {
      "cell_type": "markdown",
      "metadata": {
        "id": "26iyEZjJ-yWH"
      },
      "source": [
        "##Curva de Aprendizaje - Kernel Ridge\n",
        "\n",
        "La curva de aprendizaje muestra un comportamiento característico de **overfitting**:\n",
        "\n",
        "- El error de entrenamiento es **muy bajo y estable**, lo que indica que el modelo se ajusta fuertemente a los datos de entrenamiento.\n",
        "- El error de validación comienza alto pero **disminuye progresivamente** conforme aumenta el tamaño del conjunto de entrenamiento, lo cual es un signo positivo de mejora.\n",
        "- La **brecha entre ambas curvas** sugiere que el modelo generaliza de forma limitada al principio, aunque mejora con más datos.\n",
        "- La **banda de confianza** en la validación es más ancha al inicio, reflejando mayor variabilidad con muestras pequeñas, y se estabiliza después de los 1000 ejemplos.\n",
        "\n",
        "Este patrón refuerza que, aunque `Kernel Ridge` tiene buena capacidad de aprendizaje, también es propenso al sobreajuste si no se controla la regularización (alpha) adecuadamente.\n",
        "\n",
        "**Recomendación**: aumentar `alpha` o explorar otros kernels más suaves, como `poly`, puede ayudar a reducir el overfitting.\n"
      ]
    },
    {
      "cell_type": "code",
      "execution_count": null,
      "metadata": {
        "id": "x-JftQ6zC1ka"
      },
      "outputs": [],
      "source": [
        "\n",
        "# === Reentrenamiento final con todo el set de entrenamiento ===\n",
        "start = time.time()\n",
        "modelo_kr_opt.fit(X_train_scaled, y_train)\n",
        "fit_time_kr = time.time() - start\n",
        "\n",
        "# === Evaluación en conjunto de test ===\n",
        "y_test_pred_kr = modelo_kr_opt.predict(X_test_scaled)\n",
        "\n",
        "mae_kr = mean_absolute_error(y_test, y_test_pred_kr)\n",
        "mse_kr = mean_squared_error(y_test, y_test_pred_kr)\n",
        "rmse_kr = np.sqrt(mse_kr)\n",
        "r2_kr = r2_score(y_test, y_test_pred_kr)\n",
        "mape_kr = mean_absolute_percentage_error(y_test, y_test_pred_kr) * 100\n",
        "\n",
        "# === Mostrar resultados ===\n",
        "print(\"Desempeño final del modelo Kernel Ridge (conjunto de test):\")\n",
        "print(f\"MAE   = {mae_kr:,.2f}\")\n",
        "print(f\"MSE   = {mse_kr:.2e}\")\n",
        "print(f\"RMSE  = {rmse_kr:,.2f}\")\n",
        "print(f\"R²    = {r2_kr:.4f}\")\n",
        "print(f\"MAPE  = {mape_kr:.2f}%\")\n",
        "print(f\"Tiempo de entrenamiento (fit_time): {fit_time_kr:.4f} segundos\")\n",
        "\n",
        "# === Guardar resultados en CSV ===\n",
        "df_resultados_test_kr = pd.DataFrame([{\n",
        "    \"MAE\": mae_kr,\n",
        "    \"MSE\": mse_kr,\n",
        "    \"RMSE\": rmse_kr,\n",
        "    \"R²\": r2_kr,\n",
        "    \"MAPE (%)\": mape_kr,\n",
        "    \"fit_time (s)\": fit_time_kr\n",
        "}])\n",
        "df_resultados_test_kr.to_csv(\"data/resultados_test_kernelridge.csv\", index=False)\n"
      ]
    },
    {
      "cell_type": "markdown",
      "metadata": {
        "id": "SdlX0ekxEIB4"
      },
      "source": [
        "### Evaluación final del modelo en conjunto de test\n",
        "\n",
        "Tras reentrenar el modelo `Kernel Ridge` optimizado con todo el conjunto de entrenamiento, se evaluó su rendimiento sobre el conjunto de test (no utilizado en el ajuste de hiperparámetros).\n",
        "\n",
        "Estos resultados reflejan un excelente **poder de generalización**, con un coeficiente de determinación superior al 90% y un error porcentual absoluto inferior al 8%. El modelo logra un equilibrio adecuado entre precisión y estabilidad en datos completamente nuevos.\n"
      ]
    },
    {
      "cell_type": "markdown",
      "metadata": {
        "id": "90KmlUorkrwH"
      },
      "source": [
        "## Modelo 5: SGDRegressor (Stochastic Gradient Descent Regressor)\n",
        "\n",
        "El quinto modelo considerado en este estudio es el `SGDRegressor`, una implementación eficiente de la regresión lineal basada en el algoritmo de **descenso de gradiente estocástico**. A diferencia de métodos clásicos como `LinearRegression` o `Ridge`, este modelo optimiza los parámetros de forma iterativa, lo que lo hace altamente **escalable y adecuado para grandes volúmenes de datos**. Además, permite aplicar diferentes formas de regularización (`L1`, `L2`, `ElasticNet`), lo que aporta flexibilidad para controlar el sobreajuste y obtener soluciones dispersas si es necesario.\n",
        "\n",
        "A pesar de su sencillez, `SGDRegressor` puede ser altamente competitivo si se acompaña de una adecuada selección de hiperparámetros. Por ello, se ha incorporado una optimización exhaustiva a través de `GridSearchCV`, considerando combinaciones de:\n",
        "\n",
        "- `alpha`: intensidad de la regularización\n",
        "- `penalty`: tipo de penalización (`l1`, `l2`, `elasticnet`)\n",
        "- `l1_ratio`: proporción entre `L1` y `L2` (si aplica)\n",
        "- `early_stopping`: para prevenir sobreentrenamiento prematuro\n",
        "\n",
        "### Aspectos que se abordarán en esta sección:\n",
        "\n",
        "1. **Definición y evaluación del modelo base** con parámetros explícitos.\n",
        "2. **Optimización de hiperparámetros** con validación cruzada.\n",
        "3. **Análisis visual de sensibilidad** mediante un mapa de calor (`alpha` vs `l1_ratio`) en caso de `ElasticNet`.\n",
        "4. **Evaluación cruzada del modelo optimizado**, con métricas (`MAE`, `MSE`, `R²`, `MAPE`) en CSV.\n",
        "5. **Análisis de residuos**:\n",
        "   - Distribución (histograma + KDE)\n",
        "   - Residuos vs. predicción\n",
        "   - Prueba de normalidad (Shapiro-Wilk)\n",
        "   - Autocorrelación (Durbin-Watson)\n",
        "6. **Curva de aprendizaje**, para visualizar la capacidad de generalización según el tamaño del set de entrenamiento.\n",
        "7. **Visualización de los coeficientes** más influyentes del modelo optimizado.\n",
        "8. **Evaluación final en el conjunto de test no visto**, con reporte de métricas clave.\n",
        "9. **Medición del tiempo de entrenamiento** (`fit_time`) como criterio adicional de eficiencia.\n",
        "10. **Conclusión interpretativa** basada en rendimiento, estabilidad y aplicabilidad del modelo.\n",
        "\n",
        "Este enfoque busca no solo validar el rendimiento del `SGDRegressor`, sino también entender sus ventajas y limitaciones en comparación con los modelos previos.\n"
      ]
    },
    {
      "cell_type": "code",
      "execution_count": null,
      "metadata": {
        "id": "wBM6JAU8fsi-"
      },
      "outputs": [],
      "source": [
        "\n",
        "# ===  Definición del modelo base ===\n",
        "modelo_sgd_base = SGDRegressor(\n",
        "    loss='squared_error',   # Regresión lineal (MSE)\n",
        "    penalty='l2',           # Regularización L2\n",
        "    alpha=0.0001,           # Valor base de regularización\n",
        "    max_iter=1000,          # Número máximo de iteraciones\n",
        "    tol=1e-3,               # Tolerancia para el criterio de parada\n",
        "    random_state=42\n",
        ")\n",
        "\n",
        "# ===  Evaluación con validación cruzada (5 folds) ===\n",
        "df_sgd_base = evaluar_modelo_cv(\n",
        "    nombre_modelo=\"SGDRegressor_Base\",\n",
        "    modelo=modelo_sgd_base,\n",
        "    X=X_train_scaled,\n",
        "    y=y_train,\n",
        "    cv=cv,\n",
        "    scoring=scoring,\n",
        "    guardar_en=\"data/resultados_sgd_base.csv\"\n",
        ")\n",
        "\n",
        "# ===  Mostrar resultados ===\n",
        "df_sgd_base\n"
      ]
    },
    {
      "cell_type": "markdown",
      "metadata": {
        "id": "43_uRnc5ojMx"
      },
      "source": [
        "### Evaluación inicial del modelo base – SGDRegressor\n",
        "\n",
        "El modelo `SGDRegressor` fue evaluado en su configuración base utilizando validación cruzada de 5 folds. Se observó un desempeño aceptable, con un **MAE promedio de 17,107.22** y un **MSE de 7.81 × 10⁸**, lo cual sugiere una precisión moderada en las predicciones.\n",
        "\n",
        "El **coeficiente de determinación promedio (R² = 0.867)** indica que el modelo logra explicar alrededor del 86.7% de la varianza en los datos de entrenamiento, aunque presenta cierta variabilidad entre folds, especialmente en el fold 5, donde R² disminuye a 0.77 y el MSE se incrementa notablemente.\n",
        "\n",
        "El **MAPE promedio fue de 10.63%**, lo que implica que, en términos relativos, las predicciones difieren del valor real en aproximadamente un 10% en promedio. Si bien este error puede considerarse tolerable, también indica la presencia de oportunidades de mejora mediante ajustes de hiperparámetros.\n",
        "\n",
        "En general, estos resultados validan el uso de `SGDRegressor` como modelo competitivo por su eficiencia, pero justifican avanzar a una etapa de optimización para reducir el error, aumentar la estabilidad y mejorar la generalización del modelo.\n"
      ]
    },
    {
      "cell_type": "code",
      "execution_count": null,
      "metadata": {
        "id": "Daz7RZuDkXX6"
      },
      "outputs": [],
      "source": [
        "\n",
        "# ===  Definir espacio de búsqueda ===\n",
        "param_grid_sgd = {\n",
        "    'alpha': [1e-5, 1e-4, 1e-3, 1e-2],\n",
        "    'penalty': ['l2', 'l1', 'elasticnet'],\n",
        "    'l1_ratio': [0.1, 0.5, 0.9],  # Solo se aplica si penalty = 'elasticnet'\n",
        "    'early_stopping': [True],\n",
        "    'max_iter': [1000],\n",
        "    'tol': [1e-3]\n",
        "}\n",
        "\n",
        "# ===  Configuración del GridSearch ===\n",
        "grid_sgd = GridSearchCV(\n",
        "    estimator=SGDRegressor(random_state=42),\n",
        "    param_grid=param_grid_sgd,\n",
        "    cv=cv,\n",
        "    scoring='neg_mean_squared_error',\n",
        "    n_jobs=-1,\n",
        "    verbose=1\n",
        ")\n",
        "\n",
        "# ===  Ajuste del modelo ===\n",
        "grid_sgd.fit(X_train_scaled, y_train)\n",
        "\n",
        "# ===  Extraer mejor estimador ===\n",
        "modelo_sgd_opt = grid_sgd.best_estimator_\n",
        "\n",
        "print(\"Mejores hiperparámetros encontrados por GridSearchCV:\")\n",
        "for param, valor in grid_sgd.best_params_.items():\n",
        "    print(f\"  {param} : {valor}\")\n",
        "\n",
        "# === Guardar resultados completos del grid en CSV ===\n",
        "df_grid_sgd = pd.DataFrame(grid_sgd.cv_results_)\n",
        "df_grid_sgd.to_csv(\"data/cv_results_sgd.csv\", index=False)\n",
        "\n"
      ]
    },
    {
      "cell_type": "markdown",
      "metadata": {
        "id": "GjnHVBLLo5SF"
      },
      "source": [
        "### Optimización de hiperparámetros – SGDRegressor\n",
        "\n",
        "A través de un proceso de búsqueda exhaustiva con `GridSearchCV`, se exploraron 36 combinaciones de hiperparámetros evaluadas en 5 folds, totalizando 180 ajustes de modelo.\n",
        "\n",
        "Este resultado indica que el modelo obtiene su mejor desempeño bajo una regularización **L1 pura (Lasso)**, lo cual sugiere que un enfoque de penalización que induce dispersión (sparsity) en los coeficientes mejora la capacidad del modelo para generalizar. La elección de un `alpha` pequeño (1e-5) implica que una regularización suave fue más beneficiosa en este caso, y el `l1_ratio` cercano a 0 refuerza la necesidad de un ajuste de tipo Lasso puro en lugar de ElasticNet.\n",
        "\n",
        "La inclusión de `early_stopping=True` permitió detener el entrenamiento de forma automática cuando el error de validación dejó de mejorar, previniendo así el sobreajuste. Este conjunto de hiperparámetros sirvió como base para el modelo optimizado `SGDRegressor_Opt`, evaluado posteriormente.\n"
      ]
    },
    {
      "cell_type": "code",
      "execution_count": null,
      "metadata": {
        "id": "NRBLZDTql-wt"
      },
      "outputs": [],
      "source": [
        "\n",
        "# ===  Extraer resultados del GridSearchCV ===\n",
        "df_resultados_sgd = pd.DataFrame(grid_sgd.cv_results_)\n",
        "\n",
        "# ===  Filtrar solo combinaciones con penalty = 'elasticnet' ===\n",
        "df_elasticnet = df_resultados_sgd[df_resultados_sgd['param_penalty'] == 'elasticnet'].copy()\n",
        "\n",
        "# ===  Agregar columnas para graficar ===\n",
        "df_elasticnet[\"alpha\"] = df_elasticnet[\"param_alpha\"].astype(float)\n",
        "df_elasticnet[\"l1_ratio\"] = df_elasticnet[\"param_l1_ratio\"].astype(float)\n",
        "df_elasticnet[\"MSE\"] = -df_elasticnet[\"mean_test_score\"]  # convertir a MSE positivo\n",
        "\n",
        "# ===  Crear tabla pivote para mapa de calor ===\n",
        "pivot_sgd = df_elasticnet.pivot(index=\"l1_ratio\", columns=\"alpha\", values=\"MSE\")\n",
        "\n",
        "# ===  Graficar mapa de calor ===\n",
        "plt.figure(figsize=(10, 6))\n",
        "sns.heatmap(pivot_sgd, annot=True, fmt=\".2e\", cmap=\"magma\", cbar_kws={'label': 'MSE'})\n",
        "plt.title(\"Mapa de sensibilidad - SGDRegressor (ElasticNet)\")\n",
        "plt.xlabel(\"alpha\")\n",
        "plt.ylabel(\"l1_ratio\")\n",
        "plt.tight_layout()\n",
        "plt.savefig(\"data/sensibilidad_sgd_elasticnet.png\", dpi=300)\n",
        "plt.show()\n"
      ]
    },
    {
      "cell_type": "markdown",
      "metadata": {
        "id": "eKhj33kKpJZV"
      },
      "source": [
        "### Mapa de sensibilidad de hiperparámetros – SGDRegressor (ElasticNet)\n",
        "\n",
        "El siguiente mapa de calor representa la sensibilidad del error cuadrático medio (MSE) en validación cruzada para distintas combinaciones de los hiperparámetros `alpha` y `l1_ratio`, evaluadas bajo penalización `ElasticNet`.\n",
        "\n",
        "Se observa que los valores más bajos de error se concentraron cuando `alpha` fue mínimo (`1e-05`) y `l1_ratio` tomó cualquier valor entre 0.1 y 0.9, lo cual sugiere que el **modelo fue robusto frente a la proporción de regularización L1/L2** siempre que la penalización total (`alpha`) fuese débil.\n",
        "\n",
        "Sin embargo, a medida que `alpha` incrementa, el error comienza a crecer, especialmente con `alpha=0.01`, lo cual indica **sobre-regularización** y pérdida de capacidad predictiva. Esto refuerza la decisión de usar un `alpha` pequeño como el valor óptimo.\n",
        "\n",
        "Este análisis visual ayuda a interpretar el comportamiento del modelo ante distintas intensidades y formas de regularización, respaldando la selección de hiperparámetros y facilitando la comparación entre regiones del espacio de búsqueda.\n"
      ]
    },
    {
      "cell_type": "code",
      "execution_count": null,
      "metadata": {
        "id": "eu7U35zxmQDy"
      },
      "outputs": [],
      "source": [
        "# === Evaluación del modelo optimizado con validación cruzada ===\n",
        "df_sgd_opt = evaluar_modelo_cv(\n",
        "    nombre_modelo=\"SGDRegressor_Opt\",\n",
        "    modelo=modelo_sgd_opt,\n",
        "    X=X_train_scaled,\n",
        "    y=y_train,\n",
        "    cv=cv,\n",
        "    scoring=scoring,\n",
        "    guardar_en=\"data/resultados_sgd_opt.csv\"\n",
        ")\n",
        "\n",
        "# === Mostrar resumen ===\n",
        "df_sgd_opt\n"
      ]
    },
    {
      "cell_type": "markdown",
      "metadata": {
        "id": "PhtMBmcUpfrY"
      },
      "source": [
        "### Evaluación del modelo optimizado – SGDRegressor_Opt\n",
        "\n",
        "Tras la optimización de hiperparámetros, el modelo `SGDRegressor_Opt` fue evaluado mediante validación cruzada con 5 folds. Si bien se logró una ligera mejora en la estabilidad del error entre algunos folds, el desempeño promedio **no superó de forma significativa al modelo base**.\n",
        "\n",
        "Comparado con el modelo base (`MAE = 17,107`, `R² = 0.8687`), se aprecia un **ligero aumento del error absoluto** y una **disminución del poder explicativo** del modelo (R² cayó casi un punto porcentual). El MAPE también se incrementó, lo cual sugiere que el modelo optimizado tiene una peor capacidad de generalización relativa.\n",
        "\n",
        "Esto puede explicarse por el hecho de que el `GridSearchCV` seleccionó `penalty='l1'`, lo cual fuerza dispersión (sparsity), reduciendo la complejidad del modelo. Aunque esta penalización mejora la interpretabilidad y previene el sobreajuste, en este caso podría haber limitado el ajuste fino necesario para capturar patrones más complejos.\n",
        "\n",
        "**Conclusión**: la optimización condujo a una solución más regularizada, pero **no necesariamente más precisa**. Esta observación resalta la importancia de evaluar no solo el error, sino también la coherencia del modelo con respecto a su objetivo y el tipo de regularización aplicada.\n"
      ]
    },
    {
      "cell_type": "code",
      "execution_count": null,
      "metadata": {
        "id": "D38FRarjmhWQ"
      },
      "outputs": [],
      "source": [
        "\n",
        "# ===  Generar predicciones con validación cruzada ===\n",
        "y_pred_sgd = cross_val_predict(modelo_sgd_opt, X_train_scaled, y_train, cv=cv)\n",
        "residuos_sgd = y_train - y_pred_sgd\n",
        "\n",
        "# ===  Histograma de residuos ===\n",
        "plt.figure(figsize=(8, 5))\n",
        "sns.histplot(residuos_sgd, kde=True, bins=40, color=\"steelblue\")\n",
        "plt.title(\"Distribución de residuos - SGDRegressor\")\n",
        "plt.xlabel(\"Error (y_real - y_predicho)\")\n",
        "plt.ylabel(\"Frecuencia\")\n",
        "plt.tight_layout()\n",
        "plt.savefig(\"data/residuos_distribucion_sgd.png\", dpi=300)\n",
        "plt.show()\n",
        "\n",
        "# ===  Prueba de normalidad: Shapiro-Wilk ===\n",
        "stat_shapiro, p_shapiro = shapiro(residuos_sgd)\n",
        "print(f\"Shapiro-Wilk test: estadístico = {stat_shapiro:.3f}, p = {p_shapiro:.4f}\")\n",
        "if p_shapiro < 0.05:\n",
        "    print(\"Los residuos NO siguen una distribución normal.\")\n",
        "else:\n",
        "    print(\"Los residuos pueden considerarse normalmente distribuidos.\")\n"
      ]
    },
    {
      "cell_type": "markdown",
      "metadata": {
        "id": "dwMUjKukp2pt"
      },
      "source": [
        "### Análisis de la distribución de residuos – SGDRegressor\n",
        "\n",
        "La gráfica muestra la distribución de los residuos generados por el modelo `SGDRegressor` a través de validación cruzada. Aunque los residuos se concentran alrededor de cero, lo cual es deseable, su forma presenta **colas más pesadas y asimetrías** que una distribución normal perfecta.\n",
        "\n",
        "Esto se confirma con la prueba estadística de **Shapiro-Wilk**, la cual arrojó:\n",
        "\n",
        "- **Estadístico**: 0.794  \n",
        "- **p-valor**: 0.0000\n",
        "\n",
        "Dado que el p-valor es significativamente menor a 0.05, se **rechaza la hipótesis nula de normalidad**. Es decir, **los residuos no siguen una distribución normal**, lo que implica que el modelo podría estar generando errores sistemáticamente sesgados o influenciado por valores atípicos.\n",
        "\n",
        "Aunque este hallazgo no invalida el modelo, **viola uno de los supuestos clásicos de la regresión lineal**, por lo que se recomienda interpretarlo con precaución y complementar con otras métricas o modelos robustos si es necesario.\n"
      ]
    },
    {
      "cell_type": "code",
      "execution_count": null,
      "metadata": {
        "id": "97YxFuwQmy2F"
      },
      "outputs": [],
      "source": [
        "# ===  Gráfico de residuos vs predicción ===\n",
        "plt.figure(figsize=(8, 5))\n",
        "sns.scatterplot(x=y_pred_sgd, y=residuos_sgd, alpha=0.4)\n",
        "plt.axhline(0, color=\"red\", linestyle=\"--\")\n",
        "plt.title(\"Residuos vs Predicción - SGDRegressor\")\n",
        "plt.xlabel(\"Predicción\")\n",
        "plt.ylabel(\"Residuos\")\n",
        "plt.tight_layout()\n",
        "plt.savefig(\"data/residuos_vs_prediccion_sgd.png\", dpi=300)\n",
        "plt.show()\n",
        "\n",
        "# ===  Estadístico de Durbin-Watson (autocorrelación) ===\n",
        "dw_stat_sgd = durbin_watson(residuos_sgd)\n",
        "print(f\"Estadístico de Durbin-Watson: {dw_stat_sgd:.3f}\")\n"
      ]
    },
    {
      "cell_type": "markdown",
      "metadata": {
        "id": "1w94dpD9p7xS"
      },
      "source": [
        "### Residuos vs Predicción y autocorrelación – SGDRegressor\n",
        "\n",
        "La gráfica de dispersión muestra los residuos del modelo `SGDRegressor` en función de sus predicciones. Idealmente, los residuos deberían estar **distribuidos aleatoriamente alrededor de cero**, sin formar patrones evidentes. En este caso, la nube de puntos es relativamente simétrica y centrada, aunque se observan algunas **asimetrías y valores extremos**, especialmente en los extremos de las predicciones.\n",
        "\n",
        "Este patrón sugiere que, aunque el modelo realiza estimaciones razonables en la mayoría de los casos, **presenta cierta variabilidad o sesgo cuando las predicciones son muy altas**, lo que podría estar asociado a valores atípicos o a una capacidad limitada del modelo para capturar efectos no lineales en ese rango.\n",
        "\n",
        "Para evaluar si los residuos presentan autocorrelación, se calculó el **estadístico de Durbin-Watson**, que arrojó un valor de:\n",
        "\n",
        "- **Durbin-Watson** = 1.990\n",
        "\n",
        "Este valor está **muy cercano a 2**, lo que indica que **no existe autocorrelación significativa en los residuos**. Es decir, los errores del modelo no están correlacionados secuencialmente, lo cual es deseable desde el punto de vista estadístico y refuerza la validez del modelo en términos de independencia de los errores.\n"
      ]
    },
    {
      "cell_type": "code",
      "execution_count": null,
      "metadata": {
        "id": "qFqyeQd1nFeJ"
      },
      "outputs": [],
      "source": [
        "\n",
        "# ===  Definir fracciones del conjunto de entrenamiento ===\n",
        "train_sizes = np.linspace(0.1, 1.0, 10)\n",
        "\n",
        "# ===  Obtener curva de aprendizaje ===\n",
        "train_sizes_abs, train_scores, val_scores = learning_curve(\n",
        "    estimator=modelo_sgd_opt,\n",
        "    X=X_train_scaled,\n",
        "    y=y_train,\n",
        "    train_sizes=train_sizes,\n",
        "    cv=cv,\n",
        "    scoring='neg_mean_squared_error',\n",
        "    n_jobs=-1\n",
        ")\n",
        "\n",
        "# ===  Convertir errores a positivos (MSE) ===\n",
        "train_errors = -train_scores\n",
        "val_errors = -val_scores\n",
        "\n",
        "# ===  Calcular promedios y desviaciones ===\n",
        "train_mean = train_errors.mean(axis=1)\n",
        "train_std = train_errors.std(axis=1)\n",
        "val_mean = val_errors.mean(axis=1)\n",
        "val_std = val_errors.std(axis=1)\n",
        "\n",
        "# ===  Guardar datos como CSV ===\n",
        "df_lc_sgd = pd.DataFrame({\n",
        "    \"Tamaño entrenamiento\": train_sizes_abs,\n",
        "    \"MSE Entrenamiento\": train_mean,\n",
        "    \"STD Entrenamiento\": train_std,\n",
        "    \"MSE Validación\": val_mean,\n",
        "    \"STD Validación\": val_std\n",
        "})\n",
        "df_lc_sgd.to_csv(\"data/learning_curve_sgd.csv\", index=False)"
      ]
    },
    {
      "cell_type": "code",
      "execution_count": null,
      "metadata": {
        "id": "FdiTM01TnQ4Q"
      },
      "outputs": [],
      "source": [
        "# ===  Graficar curva de aprendizaje ===\n",
        "plt.figure(figsize=(10, 6))\n",
        "plt.plot(train_sizes_abs, train_mean, label=\"Error de entrenamiento\", color=\"blue\")\n",
        "plt.fill_between(train_sizes_abs, train_mean - train_std, train_mean + train_std, alpha=0.2, color=\"blue\")\n",
        "\n",
        "plt.plot(train_sizes_abs, val_mean, label=\"Error de validación\", color=\"orange\")\n",
        "plt.fill_between(train_sizes_abs, val_mean - val_std, val_mean + val_std, alpha=0.2, color=\"orange\")\n",
        "\n",
        "plt.title(\"Curva de Aprendizaje - SGDRegressor\")\n",
        "plt.xlabel(\"Tamaño del conjunto de entrenamiento\")\n",
        "plt.ylabel(\"Error cuadrático medio (MSE)\")\n",
        "plt.legend()\n",
        "plt.grid(True)\n",
        "plt.tight_layout()\n",
        "plt.savefig(\"data/learning_curve_sgd.png\", dpi=300)\n",
        "plt.show()"
      ]
    },
    {
      "cell_type": "markdown",
      "metadata": {
        "id": "IainZShXqQMb"
      },
      "source": [
        "### Curva de aprendizaje – SGDRegressor\n",
        "\n",
        "La curva de aprendizaje muestra la evolución del error cuadrático medio (MSE) en entrenamiento y validación a medida que aumenta el tamaño del conjunto de entrenamiento.\n",
        "\n",
        "Se observan varias características relevantes:\n",
        "\n",
        "- El **error de entrenamiento** se estabiliza rápidamente a medida que aumenta el tamaño de muestra, alcanzando un mínimo alrededor de los 750-1000 ejemplos. La estabilidad en la curva sugiere que el modelo ha aprendido una representación consistente de los datos.\n",
        "- El **error de validación** muestra una tendencia decreciente a medida que se incorporan más datos, aunque con una **amplitud considerable en las bandas de confianza**, lo que indica variabilidad en el rendimiento del modelo dependiendo de la partición de datos.\n",
        "- La **brecha entre las curvas de entrenamiento y validación** no es excesiva, lo que sugiere que el modelo no presenta un sobreajuste severo. Sin embargo, la distancia constante entre ambas curvas también revela cierto grado de **bias** (infraajuste), es decir, el modelo no está capturando completamente la complejidad de los datos.\n",
        "\n",
        "En resumen, el modelo `SGDRegressor` muestra **comportamiento razonablemente estable y generalizable**, aunque su desempeño podría beneficiarse de una arquitectura más expresiva o de una transformación de características más sofisticada.\n"
      ]
    },
    {
      "cell_type": "code",
      "execution_count": null,
      "metadata": {
        "id": "oNIT8dVgnfQ7"
      },
      "outputs": [],
      "source": [
        "# ===  Asegurar entrenamiento final del modelo (por si acaso) ===\n",
        "modelo_sgd_opt.fit(X_train_scaled, y_train)\n",
        "\n",
        "# ===  Extraer coeficientes y vincular a nombres de variables ===\n",
        "coef_sgd = modelo_sgd_opt.coef_\n",
        "\n",
        "df_coef_sgd = pd.DataFrame({\n",
        "    \"Variable\": columnas_X,\n",
        "    \"Coeficiente\": coef_sgd\n",
        "})\n",
        "\n",
        "# ===  Filtrar y ordenar los 10 coeficientes más influyentes ===\n",
        "df_coef_sgd[\"abs_coef\"] = df_coef_sgd[\"Coeficiente\"].abs()\n",
        "top_coef_sgd = df_coef_sgd.sort_values(by=\"abs_coef\", ascending=False).head(10)\n",
        "top_coef_sgd = top_coef_sgd[::-1].reset_index(drop=True)  # para graficar de abajo hacia arriba\n",
        "\n",
        "# ===  Guardar CSV completo de coeficientes ===\n",
        "df_coef_sgd.drop(columns=\"abs_coef\").to_csv(\"data/coeficientes_sgd.csv\", index=False)\n",
        "\n",
        "\n",
        "\n",
        "plt.figure(figsize=(10, 6))\n",
        "sns.barplot(data=top_coef_sgd, y=\"Variable\", x=\"Coeficiente\", palette=\"viridis\")\n",
        "plt.axvline(0, color='gray', linestyle='--')\n",
        "for i, coef in enumerate(top_coef_sgd[\"Coeficiente\"]):\n",
        "    plt.text(coef, i, f\"{coef:.0f}\", ha='left' if coef > 0 else 'right', va='center')\n",
        "plt.title(\"Top 10 variables más influyentes - Modelo SGDRegressor\")\n",
        "plt.tight_layout()\n",
        "plt.savefig(\"data/top_10_coeficientes_sgd.png\", dpi=300)\n",
        "plt.show()\n",
        "\n"
      ]
    },
    {
      "cell_type": "markdown",
      "metadata": {
        "id": "MzTcevllqgtz"
      },
      "source": [
        "### Variables más influyentes – SGDRegressor\n",
        "\n",
        "El gráfico presenta los 10 coeficientes de mayor magnitud absoluta en el modelo `SGDRegressor`, revelando las variables que más influyen en la predicción del precio de la vivienda.\n",
        "\n",
        "Entre las variables más importantes se destacan:\n",
        "\n",
        "- **2nd Flr SF** y **Neighborhood_NoRidge**, con coeficientes positivos elevados, indicando una fuerte contribución positiva al precio cuando su valor aumenta.\n",
        "- **Kitchen Qual_Gd** y **Bsmt Qual_Gd** también aparecen con pesos negativos relevantes, lo que podría interpretarse como una penalización relativa frente a otras categorías de mayor calidad, si se trata de codificaciones dummies.\n",
        "- Variables relacionadas con calidad general (`Overall Qual`), superficie (`1st Flr SF`), y vecindario (`StoneBr`, `NridgHt`) también están entre las más influyentes, lo cual coincide con lo observado en modelos previos.\n",
        "\n",
        "El uso de regularización L1 (penalty='l1') en este modelo ha inducido **sparsity**, eliminando muchas variables irrelevantes y conservando solo aquellas con mayor impacto. Esto mejora la interpretabilidad y refuerza el valor de `SGDRegressor` como una alternativa liviana y explicativa frente a modelos más complejos.\n",
        "\n",
        "La visualización facilita la comprensión del modelo al identificar rápidamente qué características son determinantes en la predicción.\n"
      ]
    },
    {
      "cell_type": "code",
      "execution_count": null,
      "metadata": {
        "id": "KJebzxPqn3Wc"
      },
      "outputs": [],
      "source": [
        "# === Mostrar número de iteraciones hasta convergencia ===\n",
        "print(f\"Iteraciones hasta convergencia del modelo SGDRegressor: {modelo_sgd_opt.n_iter_}\")\n"
      ]
    },
    {
      "cell_type": "markdown",
      "metadata": {
        "id": "Nf9Ejl5DqoCA"
      },
      "source": [
        "### Iteraciones hasta la convergencia – SGDRegressor\n",
        "\n",
        "El modelo `SGDRegressor` alcanzó la convergencia en **22 iteraciones**, dentro del límite establecido de `max_iter = 1000`.\n",
        "\n",
        "Este valor indica que el criterio de parada definido por el parámetro `tol = 1e-3` se cumplió rápidamente, lo que sugiere una **convergencia eficiente** y un proceso de entrenamiento ágil. Además, confirma que el modelo logró estabilizar los coeficientes sin necesidad de realizar un número elevado de actualizaciones, lo cual es consistente con el uso de regularización y el preprocesamiento previo.\n",
        "\n",
        "La baja cantidad de iteraciones también contribuye a un **tiempo de entrenamiento muy reducido**, una de las principales ventajas del enfoque `SGDRegressor` para tareas de regresión sobre grandes conjuntos de datos.\n"
      ]
    },
    {
      "cell_type": "code",
      "execution_count": null,
      "metadata": {
        "id": "k7ZyMdeqn4Zl"
      },
      "outputs": [],
      "source": [
        "\n",
        "# ===  Medir tiempo de entrenamiento ===\n",
        "start = time.time()\n",
        "modelo_sgd_opt.fit(X_train_scaled, y_train)\n",
        "fit_time_sgd = time.time() - start\n",
        "\n",
        "# ===  Predicción sobre test ===\n",
        "y_test_pred_sgd = modelo_sgd_opt.predict(X_test_scaled)\n",
        "\n",
        "# ===  Cálculo de métricas ===\n",
        "mae_sgd = mean_absolute_error(y_test, y_test_pred_sgd)\n",
        "mse_sgd = mean_squared_error(y_test, y_test_pred_sgd)\n",
        "rmse_sgd = np.sqrt(mse_sgd)\n",
        "r2_sgd = r2_score(y_test, y_test_pred_sgd)\n",
        "mape_sgd = mean_absolute_percentage_error(y_test, y_test_pred_sgd) * 100\n",
        "\n",
        "# ===  Mostrar resultados ===\n",
        "print(\"Desempeño final del modelo SGDRegressor (conjunto de test):\")\n",
        "print(f\"MAE   = {mae_sgd:,.2f}\")\n",
        "print(f\"MSE   = {mse_sgd:.2e}\")\n",
        "print(f\"RMSE  = {rmse_sgd:,.2f}\")\n",
        "print(f\"R²    = {r2_sgd:.4f}\")\n",
        "print(f\"MAPE  = {mape_sgd:.2f}%\")\n",
        "print(f\"Tiempo de entrenamiento (fit_time): {fit_time_sgd:.4f} segundos\")\n",
        "\n",
        "# ===  Guardar resultados ===\n",
        "df_resultados_test_sgd = pd.DataFrame([{\n",
        "    \"MAE\": mae_sgd,\n",
        "    \"MSE\": mse_sgd,\n",
        "    \"RMSE\": rmse_sgd,\n",
        "    \"R²\": r2_sgd,\n",
        "    \"MAPE (%)\": mape_sgd,\n",
        "    \"fit_time (s)\": fit_time_sgd\n",
        "}])\n",
        "df_resultados_test_sgd.to_csv(\"data/resultados_test_sgd.csv\", index=False)\n"
      ]
    },
    {
      "cell_type": "markdown",
      "metadata": {
        "id": "JNSTR_c7q1M1"
      },
      "source": [
        "### Desempeño final en conjunto de test – SGDRegressor\n",
        "\n",
        "Tras reentrenar el modelo `SGDRegressor` con la totalidad del conjunto de entrenamiento, se evaluó su rendimiento sobre el conjunto de prueba.\n",
        "\n",
        "Estos resultados confirman un rendimiento **estable y competitivo** del modelo optimizado en datos no vistos. El error absoluto promedio (MAE) y el MAPE se mantienen dentro de rangos aceptables, con un R² que indica que el modelo logra explicar cerca del 88.5% de la varianza del precio de las viviendas.\n",
        "\n",
        "Además, el tiempo de entrenamiento es **notablemente bajo**, lo cual refuerza la eficiencia computacional de `SGDRegressor`, haciéndolo ideal para tareas donde se requiere alta velocidad sin comprometer demasiado la precisión. Esto lo convierte en una opción efectiva y ligera dentro del conjunto de modelos evaluados.\n"
      ]
    }
  ],
  "metadata": {
    "colab": {
      "provenance": [],
      "authorship_tag": "ABX9TyOmabnQqpQUerdpms1bBVz4",
      "include_colab_link": true
    },
    "kernelspec": {
      "display_name": "Python 3",
      "name": "python3"
    },
    "language_info": {
      "name": "python"
    }
  },
  "nbformat": 4,
  "nbformat_minor": 0
}